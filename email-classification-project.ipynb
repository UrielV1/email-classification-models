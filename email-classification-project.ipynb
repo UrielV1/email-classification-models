{
 "cells": [
  {
   "cell_type": "code",
   "execution_count": 79,
   "metadata": {},
   "outputs": [],
   "source": [
    "import nltk\n",
    "import pandas as pd\n",
    "import re\n",
    "from sklearn.feature_extraction.text import TfidfVectorizer\n",
    "import string\n",
    "import numpy as np\n",
    "import matplotlib.pyplot as plt"
   ]
  },
  {
   "cell_type": "markdown",
   "metadata": {},
   "source": [
    "#### English stopwords"
   ]
  },
  {
   "cell_type": "code",
   "execution_count": 80,
   "metadata": {},
   "outputs": [],
   "source": [
    "stopwords = nltk.corpus.stopwords.words('english')"
   ]
  },
  {
   "cell_type": "code",
   "execution_count": 81,
   "metadata": {},
   "outputs": [
    {
     "data": {
      "text/html": [
       "<div>\n",
       "<style scoped>\n",
       "    .dataframe tbody tr th:only-of-type {\n",
       "        vertical-align: middle;\n",
       "    }\n",
       "\n",
       "    .dataframe tbody tr th {\n",
       "        vertical-align: top;\n",
       "    }\n",
       "\n",
       "    .dataframe thead th {\n",
       "        text-align: right;\n",
       "    }\n",
       "</style>\n",
       "<table border=\"1\" class=\"dataframe\">\n",
       "  <thead>\n",
       "    <tr style=\"text-align: right;\">\n",
       "      <th></th>\n",
       "      <th>label</th>\n",
       "      <th>text</th>\n",
       "    </tr>\n",
       "  </thead>\n",
       "  <tbody>\n",
       "    <tr>\n",
       "      <th>0</th>\n",
       "      <td>ham</td>\n",
       "      <td>Go until jurong point, crazy.. Available only ...</td>\n",
       "    </tr>\n",
       "    <tr>\n",
       "      <th>1</th>\n",
       "      <td>ham</td>\n",
       "      <td>Ok lar... Joking wif u oni...</td>\n",
       "    </tr>\n",
       "    <tr>\n",
       "      <th>2</th>\n",
       "      <td>spam</td>\n",
       "      <td>Free entry in 2 a wkly comp to win FA Cup fina...</td>\n",
       "    </tr>\n",
       "    <tr>\n",
       "      <th>3</th>\n",
       "      <td>ham</td>\n",
       "      <td>U dun say so early hor... U c already then say...</td>\n",
       "    </tr>\n",
       "    <tr>\n",
       "      <th>4</th>\n",
       "      <td>ham</td>\n",
       "      <td>Nah I don't think he goes to usf, he lives aro...</td>\n",
       "    </tr>\n",
       "  </tbody>\n",
       "</table>\n",
       "</div>"
      ],
      "text/plain": [
       "  label                                               text\n",
       "0   ham  Go until jurong point, crazy.. Available only ...\n",
       "1   ham                      Ok lar... Joking wif u oni...\n",
       "2  spam  Free entry in 2 a wkly comp to win FA Cup fina...\n",
       "3   ham  U dun say so early hor... U c already then say...\n",
       "4   ham  Nah I don't think he goes to usf, he lives aro..."
      ]
     },
     "execution_count": 81,
     "metadata": {},
     "output_type": "execute_result"
    }
   ],
   "source": [
    "messages = pd.read_csv('SMS.csv', encoding='utf8')\n",
    "messages.head()"
   ]
  },
  {
   "cell_type": "code",
   "execution_count": 82,
   "metadata": {},
   "outputs": [
    {
     "data": {
      "text/plain": [
       "'Go until jurong point, crazy.. Available only in bugis n great world la e buffet... Cine there got amore wat...'"
      ]
     },
     "execution_count": 82,
     "metadata": {},
     "output_type": "execute_result"
    }
   ],
   "source": [
    "messages.text[0]"
   ]
  },
  {
   "cell_type": "code",
   "execution_count": 83,
   "metadata": {},
   "outputs": [
    {
     "name": "stdout",
     "output_type": "stream",
     "text": [
      "<class 'pandas.core.frame.DataFrame'>\n",
      "RangeIndex: 5574 entries, 0 to 5573\n",
      "Data columns (total 2 columns):\n",
      " #   Column  Non-Null Count  Dtype \n",
      "---  ------  --------------  ----- \n",
      " 0   label   5574 non-null   object\n",
      " 1   text    5574 non-null   object\n",
      "dtypes: object(2)\n",
      "memory usage: 87.2+ KB\n"
     ]
    },
    {
     "data": {
      "text/html": [
       "<div>\n",
       "<style scoped>\n",
       "    .dataframe tbody tr th:only-of-type {\n",
       "        vertical-align: middle;\n",
       "    }\n",
       "\n",
       "    .dataframe tbody tr th {\n",
       "        vertical-align: top;\n",
       "    }\n",
       "\n",
       "    .dataframe thead th {\n",
       "        text-align: right;\n",
       "    }\n",
       "</style>\n",
       "<table border=\"1\" class=\"dataframe\">\n",
       "  <thead>\n",
       "    <tr style=\"text-align: right;\">\n",
       "      <th></th>\n",
       "      <th>label</th>\n",
       "      <th>text</th>\n",
       "    </tr>\n",
       "  </thead>\n",
       "  <tbody>\n",
       "    <tr>\n",
       "      <th>count</th>\n",
       "      <td>5574</td>\n",
       "      <td>5574</td>\n",
       "    </tr>\n",
       "    <tr>\n",
       "      <th>unique</th>\n",
       "      <td>2</td>\n",
       "      <td>5171</td>\n",
       "    </tr>\n",
       "    <tr>\n",
       "      <th>top</th>\n",
       "      <td>ham</td>\n",
       "      <td>Sorry, I'll call later</td>\n",
       "    </tr>\n",
       "    <tr>\n",
       "      <th>freq</th>\n",
       "      <td>4827</td>\n",
       "      <td>30</td>\n",
       "    </tr>\n",
       "  </tbody>\n",
       "</table>\n",
       "</div>"
      ],
      "text/plain": [
       "       label                    text\n",
       "count   5574                    5574\n",
       "unique     2                    5171\n",
       "top      ham  Sorry, I'll call later\n",
       "freq    4827                      30"
      ]
     },
     "execution_count": 83,
     "metadata": {},
     "output_type": "execute_result"
    }
   ],
   "source": [
    "messages.info()\n",
    "messages.shape\n",
    "messages.describe()"
   ]
  },
  {
   "cell_type": "code",
   "execution_count": 84,
   "metadata": {},
   "outputs": [
    {
     "data": {
      "text/plain": [
       "ham     4827\n",
       "spam     747\n",
       "Name: label, dtype: int64"
      ]
     },
     "execution_count": 84,
     "metadata": {},
     "output_type": "execute_result"
    }
   ],
   "source": [
    "messages.label.value_counts()"
   ]
  },
  {
   "cell_type": "markdown",
   "metadata": {},
   "source": [
    "#### Imbalance ratio check"
   ]
  },
  {
   "cell_type": "code",
   "execution_count": 85,
   "metadata": {},
   "outputs": [
    {
     "name": "stdout",
     "output_type": "stream",
     "text": [
      "The spam\\ham imbalance ratio is: 0.13 to 0.87\n"
     ]
    }
   ],
   "source": [
    "h = messages.label.value_counts()[0]\n",
    "s = messages.label.value_counts()[1]\n",
    "print(f'The spam\\ham imbalance ratio is: {round(s/(s+h),2)} to {round(h/(s+h),2)}')"
   ]
  },
  {
   "cell_type": "markdown",
   "metadata": {},
   "source": [
    "#### We may want to correct it using resampling methods"
   ]
  },
  {
   "cell_type": "code",
   "execution_count": 86,
   "metadata": {},
   "outputs": [],
   "source": [
    "def clean_text(text):\n",
    "    \"\"\" This function removes punctuation marks and cleans the text from 'stopwords'.\n",
    "    The output of the function is a clean list of words of the text.\"\"\"\n",
    "    text = \"\".join([word.lower() for word in text if word not in string.punctuation])\n",
    "    tokens = re.split('\\W+', text)\n",
    "    text = [word for word in tokens if word not in stopwords]\n",
    "    return text"
   ]
  },
  {
   "cell_type": "code",
   "execution_count": 87,
   "metadata": {},
   "outputs": [],
   "source": [
    "tfidf_vect = TfidfVectorizer(analyzer=clean_text)\n",
    "X_tfidf = tfidf_vect.fit_transform(messages['text'])\n",
    "# we took only the 'text' part (features)"
   ]
  },
  {
   "cell_type": "code",
   "execution_count": 88,
   "metadata": {},
   "outputs": [
    {
     "data": {
      "text/plain": [
       "<5574x9446 sparse matrix of type '<class 'numpy.float64'>'\n",
       "\twith 50460 stored elements in Compressed Sparse Row format>"
      ]
     },
     "execution_count": 88,
     "metadata": {},
     "output_type": "execute_result"
    }
   ],
   "source": [
    "X_tfidf"
   ]
  },
  {
   "cell_type": "code",
   "execution_count": 89,
   "metadata": {},
   "outputs": [],
   "source": [
    "# coverting the sparse matrix into a dtatframe\n",
    "X_features = pd.DataFrame(X_tfidf.toarray())"
   ]
  },
  {
   "cell_type": "code",
   "execution_count": 90,
   "metadata": {},
   "outputs": [
    {
     "data": {
      "text/html": [
       "<div>\n",
       "<style scoped>\n",
       "    .dataframe tbody tr th:only-of-type {\n",
       "        vertical-align: middle;\n",
       "    }\n",
       "\n",
       "    .dataframe tbody tr th {\n",
       "        vertical-align: top;\n",
       "    }\n",
       "\n",
       "    .dataframe thead th {\n",
       "        text-align: right;\n",
       "    }\n",
       "</style>\n",
       "<table border=\"1\" class=\"dataframe\">\n",
       "  <thead>\n",
       "    <tr style=\"text-align: right;\">\n",
       "      <th></th>\n",
       "      <th>0</th>\n",
       "      <th>1</th>\n",
       "      <th>2</th>\n",
       "      <th>3</th>\n",
       "      <th>4</th>\n",
       "      <th>5</th>\n",
       "      <th>6</th>\n",
       "      <th>7</th>\n",
       "      <th>8</th>\n",
       "      <th>9</th>\n",
       "      <th>...</th>\n",
       "      <th>9436</th>\n",
       "      <th>9437</th>\n",
       "      <th>9438</th>\n",
       "      <th>9439</th>\n",
       "      <th>9440</th>\n",
       "      <th>9441</th>\n",
       "      <th>9442</th>\n",
       "      <th>9443</th>\n",
       "      <th>9444</th>\n",
       "      <th>9445</th>\n",
       "    </tr>\n",
       "  </thead>\n",
       "  <tbody>\n",
       "    <tr>\n",
       "      <th>0</th>\n",
       "      <td>0.0</td>\n",
       "      <td>0.0</td>\n",
       "      <td>0.0</td>\n",
       "      <td>0.0</td>\n",
       "      <td>0.0</td>\n",
       "      <td>0.0</td>\n",
       "      <td>0.0</td>\n",
       "      <td>0.0</td>\n",
       "      <td>0.0</td>\n",
       "      <td>0.0</td>\n",
       "      <td>...</td>\n",
       "      <td>0.0</td>\n",
       "      <td>0.0</td>\n",
       "      <td>0.0</td>\n",
       "      <td>0.0</td>\n",
       "      <td>0.0</td>\n",
       "      <td>0.0</td>\n",
       "      <td>0.0</td>\n",
       "      <td>0.0</td>\n",
       "      <td>0.0</td>\n",
       "      <td>0.0</td>\n",
       "    </tr>\n",
       "    <tr>\n",
       "      <th>1</th>\n",
       "      <td>0.0</td>\n",
       "      <td>0.0</td>\n",
       "      <td>0.0</td>\n",
       "      <td>0.0</td>\n",
       "      <td>0.0</td>\n",
       "      <td>0.0</td>\n",
       "      <td>0.0</td>\n",
       "      <td>0.0</td>\n",
       "      <td>0.0</td>\n",
       "      <td>0.0</td>\n",
       "      <td>...</td>\n",
       "      <td>0.0</td>\n",
       "      <td>0.0</td>\n",
       "      <td>0.0</td>\n",
       "      <td>0.0</td>\n",
       "      <td>0.0</td>\n",
       "      <td>0.0</td>\n",
       "      <td>0.0</td>\n",
       "      <td>0.0</td>\n",
       "      <td>0.0</td>\n",
       "      <td>0.0</td>\n",
       "    </tr>\n",
       "    <tr>\n",
       "      <th>2</th>\n",
       "      <td>0.0</td>\n",
       "      <td>0.0</td>\n",
       "      <td>0.0</td>\n",
       "      <td>0.0</td>\n",
       "      <td>0.0</td>\n",
       "      <td>0.0</td>\n",
       "      <td>0.0</td>\n",
       "      <td>0.0</td>\n",
       "      <td>0.0</td>\n",
       "      <td>0.0</td>\n",
       "      <td>...</td>\n",
       "      <td>0.0</td>\n",
       "      <td>0.0</td>\n",
       "      <td>0.0</td>\n",
       "      <td>0.0</td>\n",
       "      <td>0.0</td>\n",
       "      <td>0.0</td>\n",
       "      <td>0.0</td>\n",
       "      <td>0.0</td>\n",
       "      <td>0.0</td>\n",
       "      <td>0.0</td>\n",
       "    </tr>\n",
       "    <tr>\n",
       "      <th>3</th>\n",
       "      <td>0.0</td>\n",
       "      <td>0.0</td>\n",
       "      <td>0.0</td>\n",
       "      <td>0.0</td>\n",
       "      <td>0.0</td>\n",
       "      <td>0.0</td>\n",
       "      <td>0.0</td>\n",
       "      <td>0.0</td>\n",
       "      <td>0.0</td>\n",
       "      <td>0.0</td>\n",
       "      <td>...</td>\n",
       "      <td>0.0</td>\n",
       "      <td>0.0</td>\n",
       "      <td>0.0</td>\n",
       "      <td>0.0</td>\n",
       "      <td>0.0</td>\n",
       "      <td>0.0</td>\n",
       "      <td>0.0</td>\n",
       "      <td>0.0</td>\n",
       "      <td>0.0</td>\n",
       "      <td>0.0</td>\n",
       "    </tr>\n",
       "    <tr>\n",
       "      <th>4</th>\n",
       "      <td>0.0</td>\n",
       "      <td>0.0</td>\n",
       "      <td>0.0</td>\n",
       "      <td>0.0</td>\n",
       "      <td>0.0</td>\n",
       "      <td>0.0</td>\n",
       "      <td>0.0</td>\n",
       "      <td>0.0</td>\n",
       "      <td>0.0</td>\n",
       "      <td>0.0</td>\n",
       "      <td>...</td>\n",
       "      <td>0.0</td>\n",
       "      <td>0.0</td>\n",
       "      <td>0.0</td>\n",
       "      <td>0.0</td>\n",
       "      <td>0.0</td>\n",
       "      <td>0.0</td>\n",
       "      <td>0.0</td>\n",
       "      <td>0.0</td>\n",
       "      <td>0.0</td>\n",
       "      <td>0.0</td>\n",
       "    </tr>\n",
       "  </tbody>\n",
       "</table>\n",
       "<p>5 rows × 9446 columns</p>\n",
       "</div>"
      ],
      "text/plain": [
       "   0     1     2     3     4     5     6     7     8     9     ...  9436  \\\n",
       "0   0.0   0.0   0.0   0.0   0.0   0.0   0.0   0.0   0.0   0.0  ...   0.0   \n",
       "1   0.0   0.0   0.0   0.0   0.0   0.0   0.0   0.0   0.0   0.0  ...   0.0   \n",
       "2   0.0   0.0   0.0   0.0   0.0   0.0   0.0   0.0   0.0   0.0  ...   0.0   \n",
       "3   0.0   0.0   0.0   0.0   0.0   0.0   0.0   0.0   0.0   0.0  ...   0.0   \n",
       "4   0.0   0.0   0.0   0.0   0.0   0.0   0.0   0.0   0.0   0.0  ...   0.0   \n",
       "\n",
       "   9437  9438  9439  9440  9441  9442  9443  9444  9445  \n",
       "0   0.0   0.0   0.0   0.0   0.0   0.0   0.0   0.0   0.0  \n",
       "1   0.0   0.0   0.0   0.0   0.0   0.0   0.0   0.0   0.0  \n",
       "2   0.0   0.0   0.0   0.0   0.0   0.0   0.0   0.0   0.0  \n",
       "3   0.0   0.0   0.0   0.0   0.0   0.0   0.0   0.0   0.0  \n",
       "4   0.0   0.0   0.0   0.0   0.0   0.0   0.0   0.0   0.0  \n",
       "\n",
       "[5 rows x 9446 columns]"
      ]
     },
     "execution_count": 90,
     "metadata": {},
     "output_type": "execute_result"
    }
   ],
   "source": [
    "X_features.head()"
   ]
  },
  {
   "cell_type": "markdown",
   "metadata": {},
   "source": [
    "### Building different models"
   ]
  },
  {
   "cell_type": "code",
   "execution_count": 91,
   "metadata": {},
   "outputs": [],
   "source": [
    "from sklearn.ensemble import RandomForestClassifier, GradientBoostingClassifier, VotingClassifier\n",
    "from sklearn.linear_model import LogisticRegression\n",
    "from sklearn.metrics import precision_score, recall_score, accuracy_score\n",
    "from sklearn.model_selection import train_test_split\n",
    "from sklearn.naive_bayes import GaussianNB"
   ]
  },
  {
   "cell_type": "code",
   "execution_count": 92,
   "metadata": {},
   "outputs": [],
   "source": [
    "# Two options: \n",
    "#(1)sparse matrix (2)DataFrame\n",
    "X1 = X_tfidf \n",
    "X = X_features\n",
    "y = messages['label']"
   ]
  },
  {
   "cell_type": "code",
   "execution_count": 99,
   "metadata": {},
   "outputs": [],
   "source": [
    "def model_score(X,y,model):\n",
    "    global M\n",
    "    if model == 'lgr':\n",
    "        model = LogisticRegression()\n",
    "    elif model == 'rf':\n",
    "        model = RandomForestClassifier()\n",
    "    elif model == 'gb': \n",
    "        model = GradientBoostingClassifier()\n",
    "    elif model == 'gnb':\n",
    "        model = GaussianNB()\n",
    "    X_train, X_test, y_train, y_test = train_test_split(X1, y, test_size=0.2, random_state=42)\n",
    "    model.fit(X_train,y_train)\n",
    "    y_pred = model.predict(X_test)\n",
    "    accuracy = accuracy_score(y_test, y_pred)\n",
    "    precision = precision_score(y_test, y_pred, pos_label='ham')\n",
    "    recall = recall_score(y_test, y_pred, pos_label='ham')\n",
    "    print(\"The precision is:   %.3f\" % precision)\n",
    "    print(\"The recall is:      %.3f\" % recall)\n",
    "    print(\"Accuracy test:      %.3f\" % model.score(X_test,y_test))\n",
    "    print(\"Accuracy train:     %.3f\" % model.score(X_train,y_train))\n",
    "    M = model\n",
    "    return M"
   ]
  },
  {
   "cell_type": "code",
   "execution_count": 94,
   "metadata": {},
   "outputs": [
    {
     "name": "stdout",
     "output_type": "stream",
     "text": [
      "The precision is:   0.952\n",
      "The recall is:      0.995\n",
      "Accuracy test:      0.952\n",
      "Accuracy train:     0.969\n",
      "Wall time: 323 ms\n"
     ]
    },
    {
     "data": {
      "text/plain": [
       "LogisticRegression()"
      ]
     },
     "execution_count": 94,
     "metadata": {},
     "output_type": "execute_result"
    }
   ],
   "source": [
    "%%time\n",
    "model_score(X,y,'lgr')\n",
    "# Using X  = 3.8s\n",
    "# Using X1 = 0.25s"
   ]
  },
  {
   "cell_type": "code",
   "execution_count": 95,
   "metadata": {},
   "outputs": [
    {
     "name": "stdout",
     "output_type": "stream",
     "text": [
      "The precision is:   0.972\n",
      "The recall is:      1.000\n",
      "Accuracy test:      0.976\n",
      "Accuracy train:     1.000\n",
      "Wall time: 11.5 s\n"
     ]
    },
    {
     "data": {
      "text/plain": [
       "RandomForestClassifier()"
      ]
     },
     "execution_count": 95,
     "metadata": {},
     "output_type": "execute_result"
    }
   ],
   "source": [
    "%%time\n",
    "model_score(X,y,'rf')\n",
    "# Using X  = 26s\n",
    "# Using X1 = 11.6s"
   ]
  },
  {
   "cell_type": "code",
   "execution_count": 96,
   "metadata": {},
   "outputs": [
    {
     "name": "stdout",
     "output_type": "stream",
     "text": [
      "The precision is:   0.963\n",
      "The recall is:      0.998\n",
      "Accuracy test:      0.965\n",
      "Accuracy train:     0.976\n",
      "Wall time: 11.4 s\n"
     ]
    },
    {
     "data": {
      "text/plain": [
       "GradientBoostingClassifier()"
      ]
     },
     "execution_count": 96,
     "metadata": {},
     "output_type": "execute_result"
    }
   ],
   "source": [
    "%%time\n",
    "model_score(X,y,'gb')\n",
    "# Using X  = ~minutes\n",
    "# Using X1 = 11.3s"
   ]
  },
  {
   "cell_type": "code",
   "execution_count": 98,
   "metadata": {},
   "outputs": [
    {
     "name": "stdout",
     "output_type": "stream",
     "text": [
      "The precision is:   0.982\n",
      "The recall is:      0.882\n",
      "Accuracy test:      0.885\n",
      "Accuracy train:     0.951\n",
      "Wall time: 7.5 s\n"
     ]
    },
    {
     "data": {
      "text/plain": [
       "GaussianNB()"
      ]
     },
     "execution_count": 98,
     "metadata": {},
     "output_type": "execute_result"
    }
   ],
   "source": [
    "%%time\n",
    "model_score(X,y,'gnb')\n",
    "# Using X  = 7.1s\n",
    "# Using X1 = didn't work"
   ]
  },
  {
   "cell_type": "markdown",
   "metadata": {},
   "source": [
    "### Imbalance correction - applying RandomOverSampling method"
   ]
  },
  {
   "cell_type": "code",
   "execution_count": 100,
   "metadata": {},
   "outputs": [],
   "source": [
    "from imblearn.over_sampling import RandomOverSampler\n",
    "\n",
    "ros = RandomOverSampler()"
   ]
  },
  {
   "cell_type": "code",
   "execution_count": 101,
   "metadata": {},
   "outputs": [],
   "source": [
    "X_train, X_test, y_train, y_test = train_test_split(X, y, test_size=0.2, random_state=42)"
   ]
  },
  {
   "cell_type": "code",
   "execution_count": 102,
   "metadata": {},
   "outputs": [],
   "source": [
    "X_ros, y_ros = ros.fit_sample(X_train, y_train)"
   ]
  },
  {
   "cell_type": "code",
   "execution_count": 103,
   "metadata": {},
   "outputs": [
    {
     "data": {
      "text/plain": [
       "0.5"
      ]
     },
     "execution_count": 103,
     "metadata": {},
     "output_type": "execute_result"
    }
   ],
   "source": [
    "# sanity check (did the resampling worked? yes)\n",
    "(y_ros == 'ham').mean()"
   ]
  },
  {
   "cell_type": "code",
   "execution_count": 104,
   "metadata": {},
   "outputs": [],
   "source": [
    "model = LogisticRegression()"
   ]
  },
  {
   "cell_type": "code",
   "execution_count": 105,
   "metadata": {},
   "outputs": [
    {
     "name": "stdout",
     "output_type": "stream",
     "text": [
      "Wall time: 5.53 s\n"
     ]
    },
    {
     "data": {
      "text/plain": [
       "LogisticRegression()"
      ]
     },
     "execution_count": 105,
     "metadata": {},
     "output_type": "execute_result"
    }
   ],
   "source": [
    "%%time\n",
    "model.fit(X_ros, y_ros)\n",
    "# 0.13s"
   ]
  },
  {
   "cell_type": "code",
   "execution_count": 106,
   "metadata": {},
   "outputs": [
    {
     "data": {
      "text/plain": [
       "0.9775784753363229"
      ]
     },
     "execution_count": 106,
     "metadata": {},
     "output_type": "execute_result"
    }
   ],
   "source": [
    "model.score(X_test,y_test)"
   ]
  },
  {
   "cell_type": "code",
   "execution_count": 107,
   "metadata": {},
   "outputs": [
    {
     "data": {
      "text/plain": [
       "0.9952233410792667"
      ]
     },
     "execution_count": 107,
     "metadata": {},
     "output_type": "execute_result"
    }
   ],
   "source": [
    "model.score(X_ros, y_ros)"
   ]
  },
  {
   "cell_type": "code",
   "execution_count": 112,
   "metadata": {},
   "outputs": [],
   "source": [
    "model = RandomForestClassifier()"
   ]
  },
  {
   "cell_type": "code",
   "execution_count": 113,
   "metadata": {},
   "outputs": [
    {
     "name": "stdout",
     "output_type": "stream",
     "text": [
      "Wall time: 34.2 s\n"
     ]
    },
    {
     "data": {
      "text/plain": [
       "RandomForestClassifier()"
      ]
     },
     "execution_count": 113,
     "metadata": {},
     "output_type": "execute_result"
    }
   ],
   "source": [
    "%%time\n",
    "model.fit(X_ros, y_ros)\n",
    "# 11.7s"
   ]
  },
  {
   "cell_type": "code",
   "execution_count": 114,
   "metadata": {},
   "outputs": [
    {
     "data": {
      "text/plain": [
       "0.9820627802690582"
      ]
     },
     "execution_count": 114,
     "metadata": {},
     "output_type": "execute_result"
    }
   ],
   "source": [
    "model.score(X_test,y_test)"
   ]
  },
  {
   "cell_type": "code",
   "execution_count": 115,
   "metadata": {},
   "outputs": [
    {
     "data": {
      "text/plain": [
       "1.0"
      ]
     },
     "execution_count": 115,
     "metadata": {},
     "output_type": "execute_result"
    }
   ],
   "source": [
    "model.score(X_ros, y_ros)"
   ]
  },
  {
   "cell_type": "code",
   "execution_count": 116,
   "metadata": {},
   "outputs": [],
   "source": [
    "model = GradientBoostingClassifier()"
   ]
  },
  {
   "cell_type": "code",
   "execution_count": 117,
   "metadata": {},
   "outputs": [
    {
     "name": "stdout",
     "output_type": "stream",
     "text": [
      "Wall time: 3min 15s\n"
     ]
    },
    {
     "data": {
      "text/plain": [
       "GradientBoostingClassifier()"
      ]
     },
     "execution_count": 117,
     "metadata": {},
     "output_type": "execute_result"
    }
   ],
   "source": [
    "%%time\n",
    "model.fit(X_ros, y_ros)\n",
    "# 10.9s"
   ]
  },
  {
   "cell_type": "code",
   "execution_count": 118,
   "metadata": {},
   "outputs": [
    {
     "data": {
      "text/plain": [
       "0.95695067264574"
      ]
     },
     "execution_count": 118,
     "metadata": {},
     "output_type": "execute_result"
    }
   ],
   "source": [
    "model.score(X_test,y_test)"
   ]
  },
  {
   "cell_type": "code",
   "execution_count": 119,
   "metadata": {},
   "outputs": [
    {
     "data": {
      "text/plain": [
       "0.93712884069197"
      ]
     },
     "execution_count": 119,
     "metadata": {},
     "output_type": "execute_result"
    }
   ],
   "source": [
    "model.score(X_ros, y_ros)"
   ]
  },
  {
   "cell_type": "code",
   "execution_count": 120,
   "metadata": {},
   "outputs": [],
   "source": [
    "model = GaussianNB()"
   ]
  },
  {
   "cell_type": "code",
   "execution_count": 121,
   "metadata": {},
   "outputs": [
    {
     "name": "stdout",
     "output_type": "stream",
     "text": [
      "Wall time: 5.19 s\n"
     ]
    },
    {
     "data": {
      "text/plain": [
       "GaussianNB()"
      ]
     },
     "execution_count": 121,
     "metadata": {},
     "output_type": "execute_result"
    }
   ],
   "source": [
    "%%time\n",
    "model.fit(X_ros, y_ros)\n",
    "# 5.21s"
   ]
  },
  {
   "cell_type": "code",
   "execution_count": 122,
   "metadata": {},
   "outputs": [
    {
     "data": {
      "text/plain": [
       "0.885201793721973"
      ]
     },
     "execution_count": 122,
     "metadata": {},
     "output_type": "execute_result"
    }
   ],
   "source": [
    "model.score(X_test,y_test)"
   ]
  },
  {
   "cell_type": "code",
   "execution_count": 123,
   "metadata": {},
   "outputs": [
    {
     "data": {
      "text/plain": [
       "0.971727343144849"
      ]
     },
     "execution_count": 123,
     "metadata": {},
     "output_type": "execute_result"
    }
   ],
   "source": [
    "model.score(X_ros, y_ros)"
   ]
  },
  {
   "cell_type": "code",
   "execution_count": 49,
   "metadata": {},
   "outputs": [],
   "source": [
    "# Logistic regression and Random forest have improved\n",
    "# GaussianNB hasn't changed and GB got worse"
   ]
  },
  {
   "cell_type": "markdown",
   "metadata": {},
   "source": [
    "### Basic RNN model"
   ]
  },
  {
   "cell_type": "code",
   "execution_count": 124,
   "metadata": {},
   "outputs": [],
   "source": [
    "from keras.preprocessing.text import Tokenizer\n",
    "from keras.preprocessing.sequence import pad_sequences"
   ]
  },
  {
   "cell_type": "markdown",
   "metadata": {},
   "source": [
    "#### Data Prep"
   ]
  },
  {
   "cell_type": "code",
   "execution_count": 125,
   "metadata": {},
   "outputs": [
    {
     "data": {
      "text/html": [
       "<div>\n",
       "<style scoped>\n",
       "    .dataframe tbody tr th:only-of-type {\n",
       "        vertical-align: middle;\n",
       "    }\n",
       "\n",
       "    .dataframe tbody tr th {\n",
       "        vertical-align: top;\n",
       "    }\n",
       "\n",
       "    .dataframe thead th {\n",
       "        text-align: right;\n",
       "    }\n",
       "</style>\n",
       "<table border=\"1\" class=\"dataframe\">\n",
       "  <thead>\n",
       "    <tr style=\"text-align: right;\">\n",
       "      <th></th>\n",
       "      <th>label</th>\n",
       "      <th>text</th>\n",
       "      <th>clean_text</th>\n",
       "    </tr>\n",
       "  </thead>\n",
       "  <tbody>\n",
       "    <tr>\n",
       "      <th>0</th>\n",
       "      <td>ham</td>\n",
       "      <td>Go until jurong point, crazy.. Available only ...</td>\n",
       "      <td>[go, jurong, point, crazy, available, bugis, n...</td>\n",
       "    </tr>\n",
       "    <tr>\n",
       "      <th>1</th>\n",
       "      <td>ham</td>\n",
       "      <td>Ok lar... Joking wif u oni...</td>\n",
       "      <td>[ok, lar, joking, wif, u, oni]</td>\n",
       "    </tr>\n",
       "    <tr>\n",
       "      <th>2</th>\n",
       "      <td>spam</td>\n",
       "      <td>Free entry in 2 a wkly comp to win FA Cup fina...</td>\n",
       "      <td>[free, entry, 2, wkly, comp, win, fa, cup, fin...</td>\n",
       "    </tr>\n",
       "    <tr>\n",
       "      <th>3</th>\n",
       "      <td>ham</td>\n",
       "      <td>U dun say so early hor... U c already then say...</td>\n",
       "      <td>[u, dun, say, early, hor, u, c, already, say]</td>\n",
       "    </tr>\n",
       "    <tr>\n",
       "      <th>4</th>\n",
       "      <td>ham</td>\n",
       "      <td>Nah I don't think he goes to usf, he lives aro...</td>\n",
       "      <td>[nah, dont, think, goes, usf, lives, around, t...</td>\n",
       "    </tr>\n",
       "  </tbody>\n",
       "</table>\n",
       "</div>"
      ],
      "text/plain": [
       "  label                                               text  \\\n",
       "0   ham  Go until jurong point, crazy.. Available only ...   \n",
       "1   ham                      Ok lar... Joking wif u oni...   \n",
       "2  spam  Free entry in 2 a wkly comp to win FA Cup fina...   \n",
       "3   ham  U dun say so early hor... U c already then say...   \n",
       "4   ham  Nah I don't think he goes to usf, he lives aro...   \n",
       "\n",
       "                                          clean_text  \n",
       "0  [go, jurong, point, crazy, available, bugis, n...  \n",
       "1                     [ok, lar, joking, wif, u, oni]  \n",
       "2  [free, entry, 2, wkly, comp, win, fa, cup, fin...  \n",
       "3      [u, dun, say, early, hor, u, c, already, say]  \n",
       "4  [nah, dont, think, goes, usf, lives, around, t...  "
      ]
     },
     "execution_count": 125,
     "metadata": {},
     "output_type": "execute_result"
    }
   ],
   "source": [
    "messages['clean_text'] = messages['text'].apply(lambda x: clean_text(x))\n",
    "messages.head()"
   ]
  },
  {
   "cell_type": "code",
   "execution_count": 126,
   "metadata": {},
   "outputs": [],
   "source": [
    "Xr = messages['clean_text']\n",
    "yr = messages['label']"
   ]
  },
  {
   "cell_type": "code",
   "execution_count": 127,
   "metadata": {},
   "outputs": [],
   "source": [
    "X_train, X_test, y_train, y_test = train_test_split(Xr, yr, test_size=0.2, random_state=42)"
   ]
  },
  {
   "cell_type": "markdown",
   "metadata": {},
   "source": [
    "#### Converting the items of clean_text from list to str (for the tokenzing part)"
   ]
  },
  {
   "cell_type": "code",
   "execution_count": 128,
   "metadata": {},
   "outputs": [],
   "source": [
    "X_train = pd.Series([f'{X_train.values[i]}' for i in range(X_train.shape[0])])\n",
    "X_test = pd.Series([f'{X_test.values[i]}' for i in range(X_test.shape[0])])"
   ]
  },
  {
   "cell_type": "markdown",
   "metadata": {},
   "source": [
    "#### Train the tokenizer and use it to convert the sentences to sequence of numbers"
   ]
  },
  {
   "cell_type": "code",
   "execution_count": 129,
   "metadata": {},
   "outputs": [],
   "source": [
    "tokenizer = Tokenizer()\n",
    "tokenizer.fit_on_texts(X_train)\n",
    "X_train_seq = tokenizer.texts_to_sequences(X_train)\n",
    "X_test_seq = tokenizer.texts_to_sequences(X_test)"
   ]
  },
  {
   "cell_type": "markdown",
   "metadata": {},
   "source": [
    "We can take a look at the vocabulary"
   ]
  },
  {
   "cell_type": "code",
   "execution_count": 130,
   "metadata": {},
   "outputs": [
    {
     "data": {
      "text/plain": [
       "{'go': 3800,\n",
       " 'jurong': 4693,\n",
       " 'point': 6441,\n",
       " 'crazy': 2507,\n",
       " 'available': 1425,\n",
       " 'bugis': 1893,\n",
       " 'n': 5683,\n",
       " 'great': 3897,\n",
       " 'world': 9190,\n",
       " 'la': 4855,\n",
       " 'e': 3032,\n",
       " 'buffet': 1891,\n",
       " 'cine': 2225,\n",
       " 'got': 3857,\n",
       " 'amore': 1192,\n",
       " 'wat': 8955,\n",
       " 'ok': 6002,\n",
       " 'lar': 4894,\n",
       " 'joking': 4661,\n",
       " 'wif': 9085,\n",
       " 'u': 8615,\n",
       " 'oni': 6034,\n",
       " 'free': 3585,\n",
       " 'entry': 3168,\n",
       " '2': 438,\n",
       " 'wkly': 9142,\n",
       " 'comp': 2341,\n",
       " 'win': 9099,\n",
       " 'fa': 3305,\n",
       " 'cup': 2563,\n",
       " 'final': 3430,\n",
       " 'tkts': 8387,\n",
       " '21st': 458,\n",
       " 'may': 5342,\n",
       " '2005': 445,\n",
       " 'text': 8225,\n",
       " '87121': 885,\n",
       " 'receive': 6842,\n",
       " 'questionstd': 6733,\n",
       " 'txt': 8599,\n",
       " 'ratetcs': 6786,\n",
       " 'apply': 1278,\n",
       " '08452810075over18s': 73,\n",
       " 'dun': 3018,\n",
       " 'say': 7201,\n",
       " 'early': 3039,\n",
       " 'hor': 4230,\n",
       " 'c': 1940,\n",
       " 'already': 1165,\n",
       " 'nah': 5690,\n",
       " 'dont': 2925,\n",
       " 'think': 8298,\n",
       " 'goes': 3814,\n",
       " 'usf': 8749,\n",
       " 'lives': 5058,\n",
       " 'around': 1329,\n",
       " 'though': 8317,\n",
       " 'freemsg': 3593,\n",
       " 'hey': 4126,\n",
       " 'darling': 2627,\n",
       " '3': 550,\n",
       " 'weeks': 9009,\n",
       " 'word': 9176,\n",
       " 'back': 1476,\n",
       " 'id': 4351,\n",
       " 'like': 5008,\n",
       " 'fun': 3660,\n",
       " 'still': 7868,\n",
       " 'tb': 8155,\n",
       " 'xxx': 9316,\n",
       " 'std': 7843,\n",
       " 'chgs': 2170,\n",
       " 'send': 7297,\n",
       " '150': 356,\n",
       " 'rcv': 6798,\n",
       " 'even': 3215,\n",
       " 'brother': 1860,\n",
       " 'speak': 7714,\n",
       " 'treat': 8524,\n",
       " 'aids': 1111,\n",
       " 'patent': 6234,\n",
       " 'per': 6276,\n",
       " 'request': 6955,\n",
       " 'melle': 5385,\n",
       " 'oru': 6098,\n",
       " 'minnaminunginte': 5468,\n",
       " 'nurungu': 5930,\n",
       " 'vettam': 8813,\n",
       " 'set': 7326,\n",
       " 'callertune': 1976,\n",
       " 'callers': 1975,\n",
       " 'press': 6571,\n",
       " '9': 923,\n",
       " 'copy': 2446,\n",
       " 'friends': 3618,\n",
       " 'winner': 9110,\n",
       " 'valued': 8784,\n",
       " 'network': 5766,\n",
       " 'customer': 2576,\n",
       " 'selected': 7283,\n",
       " 'receivea': 6843,\n",
       " '900': 924,\n",
       " 'prize': 6605,\n",
       " 'reward': 7014,\n",
       " 'claim': 2231,\n",
       " 'call': 1957,\n",
       " '09061701461': 219,\n",
       " 'code': 2292,\n",
       " 'kl341': 4810,\n",
       " 'valid': 8780,\n",
       " '12': 327,\n",
       " 'hours': 4249,\n",
       " 'mobile': 5527,\n",
       " '11': 316,\n",
       " 'months': 5572,\n",
       " 'r': 6747,\n",
       " 'entitled': 3165,\n",
       " 'update': 8704,\n",
       " 'latest': 4911,\n",
       " 'colour': 2315,\n",
       " 'mobiles': 5528,\n",
       " 'camera': 1990,\n",
       " 'co': 2281,\n",
       " '08002986030': 58,\n",
       " 'im': 4381,\n",
       " 'gonna': 3831,\n",
       " 'home': 4196,\n",
       " 'soon': 7664,\n",
       " 'want': 8936,\n",
       " 'talk': 8121,\n",
       " 'stuff': 7941,\n",
       " 'anymore': 1245,\n",
       " 'tonight': 8446,\n",
       " 'k': 4700,\n",
       " 'ive': 4574,\n",
       " 'cried': 2524,\n",
       " 'enough': 3156,\n",
       " 'today': 8404,\n",
       " 'six': 7516,\n",
       " 'chances': 2107,\n",
       " 'cash': 2050,\n",
       " '100': 294,\n",
       " '20000': 442,\n",
       " 'pounds': 6508,\n",
       " 'csh11': 2541,\n",
       " '87575': 889,\n",
       " 'cost': 2459,\n",
       " '150pday': 363,\n",
       " '6days': 769,\n",
       " '16': 394,\n",
       " 'tsandcs': 8559,\n",
       " 'reply': 6947,\n",
       " 'hl': 4162,\n",
       " '4': 616,\n",
       " 'info': 4444,\n",
       " 'urgent': 8727,\n",
       " '1': 292,\n",
       " 'week': 9004,\n",
       " 'membership': 5391,\n",
       " '100000': 297,\n",
       " 'jackpot': 4584,\n",
       " '81010': 835,\n",
       " 'tc': 8157,\n",
       " 'wwwdbuknet': 9259,\n",
       " 'lccltd': 4929,\n",
       " 'pobox': 6420,\n",
       " '4403ldnw1a7rw18': 637,\n",
       " 'searching': 7250,\n",
       " 'right': 7026,\n",
       " 'words': 9179,\n",
       " 'thank': 8243,\n",
       " 'breather': 1829,\n",
       " 'promise': 6644,\n",
       " 'wont': 9167,\n",
       " 'take': 8112,\n",
       " 'help': 4094,\n",
       " 'granted': 3886,\n",
       " 'fulfil': 3656,\n",
       " 'wonderful': 9164,\n",
       " 'blessing': 1700,\n",
       " 'times': 8362,\n",
       " 'date': 2636,\n",
       " 'sunday': 8009,\n",
       " 'xxxmobilemovieclub': 9317,\n",
       " 'use': 8743,\n",
       " 'credit': 2514,\n",
       " 'click': 2253,\n",
       " 'wap': 8941,\n",
       " 'link': 5031,\n",
       " 'next': 5785,\n",
       " 'message': 5416,\n",
       " 'httpwap': 4279,\n",
       " 'xxxmobilemovieclubcomnqjkgighjjgcbl': 9318,\n",
       " 'oh': 5995,\n",
       " 'kim': 4777,\n",
       " 'watching': 8960,\n",
       " 'eh': 3089,\n",
       " 'remember': 6914,\n",
       " 'spell': 7730,\n",
       " 'name': 5696,\n",
       " 'yes': 9356,\n",
       " 'v': 8772,\n",
       " 'naughty': 5722,\n",
       " 'make': 5261,\n",
       " 'wet': 9046,\n",
       " 'fine': 3438,\n",
       " 'way': 8971,\n",
       " 'feel': 3382,\n",
       " 'gota': 3858,\n",
       " 'b': 1455,\n",
       " 'england': 3147,\n",
       " 'macedonia': 5223,\n",
       " 'miss': 5487,\n",
       " 'goalsteam': 3806,\n",
       " 'news': 5780,\n",
       " 'ur': 8724,\n",
       " 'national': 5715,\n",
       " 'team': 8171,\n",
       " '87077': 884,\n",
       " 'eg': 3080,\n",
       " 'trywales': 8557,\n",
       " 'scotland': 7229,\n",
       " '4txtú120': 685,\n",
       " 'poboxox36504w45wq': 6432,\n",
       " 'seriously': 7319,\n",
       " 'going': 3819,\n",
       " 'try': 8554,\n",
       " 'ha': 3969,\n",
       " 'ü': 9443,\n",
       " 'pay': 6245,\n",
       " 'first': 3458,\n",
       " 'da': 2592,\n",
       " 'stock': 7872,\n",
       " 'comin': 2331,\n",
       " 'aft': 1073,\n",
       " 'finish': 3444,\n",
       " 'lunch': 5189,\n",
       " 'str': 7898,\n",
       " 'lor': 5115,\n",
       " 'ard': 1305,\n",
       " 'smth': 7602,\n",
       " 'ffffffffff': 3400,\n",
       " 'alright': 1167,\n",
       " 'meet': 5370,\n",
       " 'sooner': 7666,\n",
       " 'forced': 3536,\n",
       " 'eat': 3052,\n",
       " 'slice': 7551,\n",
       " 'really': 6823,\n",
       " 'hungry': 4307,\n",
       " 'tho': 8313,\n",
       " 'sucks': 7979,\n",
       " 'mark': 5297,\n",
       " 'getting': 3759,\n",
       " 'worried': 9196,\n",
       " 'knows': 4822,\n",
       " 'sick': 7459,\n",
       " 'turn': 8580,\n",
       " 'pizza': 6370,\n",
       " 'lol': 5092,\n",
       " 'always': 1177,\n",
       " 'convincing': 2432,\n",
       " 'catch': 2062,\n",
       " 'bus': 1913,\n",
       " 'frying': 3644,\n",
       " 'egg': 3084,\n",
       " 'tea': 8165,\n",
       " 'eating': 3055,\n",
       " 'moms': 5551,\n",
       " 'left': 4952,\n",
       " 'dinner': 2834,\n",
       " 'love': 5141,\n",
       " '': 0,\n",
       " 'amp': 1194,\n",
       " 'packing': 6157,\n",
       " 'car': 2016,\n",
       " 'ill': 4377,\n",
       " 'let': 4975,\n",
       " 'know': 4817,\n",
       " 'theres': 8283,\n",
       " 'room': 7071,\n",
       " 'ahhh': 1102,\n",
       " 'work': 9182,\n",
       " 'vaguely': 8775,\n",
       " 'wait': 8906,\n",
       " 'thats': 8260,\n",
       " 'clear': 2247,\n",
       " 'sure': 8037,\n",
       " 'sarcastic': 7175,\n",
       " 'x': 9296,\n",
       " 'doesnt': 2898,\n",
       " 'live': 5054,\n",
       " 'us': 8739,\n",
       " 'yeah': 9343,\n",
       " 'apologetic': 1266,\n",
       " 'fallen': 3332,\n",
       " 'actin': 1011,\n",
       " 'spoilt': 7758,\n",
       " 'child': 2186,\n",
       " 'caught': 2066,\n",
       " 'till': 8356,\n",
       " 'badly': 1482,\n",
       " 'cheers': 2152,\n",
       " 'tell': 8190,\n",
       " 'anything': 1251,\n",
       " 'fear': 3374,\n",
       " 'fainting': 3322,\n",
       " 'housework': 4254,\n",
       " 'quick': 6734,\n",
       " 'cuppa': 2565,\n",
       " 'thanks': 8244,\n",
       " 'subscription': 7968,\n",
       " 'ringtone': 7035,\n",
       " 'uk': 8631,\n",
       " 'charged': 2119,\n",
       " '5month': 724,\n",
       " 'please': 6399,\n",
       " 'confirm': 2387,\n",
       " 'replying': 6949,\n",
       " 'yup': 9425,\n",
       " 'look': 5103,\n",
       " 'timings': 8369,\n",
       " 'msg': 5616,\n",
       " 'xuhui': 9312,\n",
       " 'learn': 4941,\n",
       " '2nd': 524,\n",
       " 'lesson': 4973,\n",
       " '8am': 912,\n",
       " 'oops': 6052,\n",
       " 'roommates': 7074,\n",
       " 'done': 2922,\n",
       " 'see': 7267,\n",
       " 'letter': 4977,\n",
       " 'decide': 2691,\n",
       " 'hello': 4087,\n",
       " 'hows': 4261,\n",
       " 'saturday': 7191,\n",
       " 'texting': 8233,\n",
       " 'youd': 9390,\n",
       " 'decided': 2692,\n",
       " 'tomo': 8431,\n",
       " 'trying': 8556,\n",
       " 'invite': 4508,\n",
       " 'pls': 6407,\n",
       " 'ahead': 1100,\n",
       " 'watts': 8969,\n",
       " 'wanted': 8938,\n",
       " 'weekend': 9006,\n",
       " 'abiola': 963,\n",
       " 'forget': 3542,\n",
       " 'need': 5741,\n",
       " 'crave': 2504,\n",
       " 'sweet': 8068,\n",
       " 'arabian': 1302,\n",
       " 'steed': 7850,\n",
       " 'mmmmmm': 5517,\n",
       " 'yummy': 9420,\n",
       " '07732584351': 30,\n",
       " 'rodger': 7060,\n",
       " 'burns': 1910,\n",
       " 'tried': 8533,\n",
       " 'sms': 7596,\n",
       " 'nokia': 5850,\n",
       " 'camcorder': 1988,\n",
       " '08000930705': 54,\n",
       " 'delivery': 2730,\n",
       " 'tomorrow': 8434,\n",
       " 'seeing': 7269,\n",
       " 'hope': 4220,\n",
       " 'man': 5271,\n",
       " 'well': 9023,\n",
       " 'endowed': 3137,\n",
       " 'ltgt': 5174,\n",
       " 'inches': 4412,\n",
       " 'callsmessagesmissed': 1984,\n",
       " 'calls': 1982,\n",
       " 'didnt': 2804,\n",
       " 'get': 3751,\n",
       " 'hep': 4108,\n",
       " 'immunisation': 4393,\n",
       " 'nigeria': 5798,\n",
       " 'fair': 3323,\n",
       " 'hopefully': 4224,\n",
       " 'tyler': 8609,\n",
       " 'cant': 2007,\n",
       " 'could': 2469,\n",
       " 'maybe': 5344,\n",
       " 'ask': 1357,\n",
       " 'bit': 1675,\n",
       " 'stubborn': 7929,\n",
       " 'hospital': 4237,\n",
       " 'kept': 4748,\n",
       " 'telling': 8191,\n",
       " 'weak': 8977,\n",
       " 'sucker': 7977,\n",
       " 'hospitals': 4238,\n",
       " 'suckers': 7978,\n",
       " 'thinked': 8299,\n",
       " 'time': 8358,\n",
       " 'saw': 7200,\n",
       " 'class': 2239,\n",
       " 'gram': 3878,\n",
       " 'usually': 8760,\n",
       " 'runs': 7118,\n",
       " 'half': 3986,\n",
       " 'eighth': 3092,\n",
       " 'smarter': 7574,\n",
       " 'gets': 3755,\n",
       " 'almost': 1161,\n",
       " 'whole': 9074,\n",
       " 'second': 7254,\n",
       " 'fyi': 3675,\n",
       " 'ride': 7025,\n",
       " 'morning': 5581,\n",
       " 'hes': 4121,\n",
       " 'crashing': 2503,\n",
       " 'place': 6372,\n",
       " 'wow': 9215,\n",
       " 'never': 5771,\n",
       " 'realized': 6821,\n",
       " 'embarassed': 3117,\n",
       " 'accomodations': 991,\n",
       " 'thought': 8318,\n",
       " 'liked': 5009,\n",
       " 'since': 7486,\n",
       " 'best': 1629,\n",
       " 'seemed': 7273,\n",
       " 'happy': 4020,\n",
       " 'cave': 2070,\n",
       " 'sorry': 7676,\n",
       " 'give': 3781,\n",
       " 'offered': 5976,\n",
       " 'embarassing': 3118,\n",
       " 'ac': 977,\n",
       " 'sptv': 7781,\n",
       " 'new': 5775,\n",
       " 'jersey': 4628,\n",
       " 'devils': 2783,\n",
       " 'detroit': 2777,\n",
       " 'red': 6866,\n",
       " 'wings': 9108,\n",
       " 'play': 6388,\n",
       " 'ice': 4346,\n",
       " 'hockey': 4180,\n",
       " 'correct': 2451,\n",
       " 'incorrect': 4423,\n",
       " 'end': 3132,\n",
       " 'mallika': 5270,\n",
       " 'sherawat': 7380,\n",
       " 'yesterday': 9371,\n",
       " 'find': 3435,\n",
       " 'lturlgt': 5177,\n",
       " 'congrats': 2394,\n",
       " 'year': 9345,\n",
       " 'special': 7716,\n",
       " 'cinema': 2226,\n",
       " 'pass': 6222,\n",
       " '09061209465': 214,\n",
       " 'suprman': 8035,\n",
       " 'matrix3': 5330,\n",
       " 'starwars3': 7830,\n",
       " 'etc': 3201,\n",
       " 'bx420ip45we': 1936,\n",
       " '150pm': 366,\n",
       " 'later': 4909,\n",
       " 'meeting': 5373,\n",
       " 'reached': 6804,\n",
       " 'yesgauti': 9364,\n",
       " 'sehwag': 7280,\n",
       " 'odi': 5969,\n",
       " 'series': 7317,\n",
       " 'pick': 6340,\n",
       " 'burger': 1905,\n",
       " 'move': 5600,\n",
       " 'pain': 6164,\n",
       " 'killing': 4774,\n",
       " 'good': 3833,\n",
       " 'joke': 4656,\n",
       " 'girls': 3778,\n",
       " 'situation': 7512,\n",
       " 'seekers': 7270,\n",
       " 'part': 6209,\n",
       " 'checking': 2146,\n",
       " 'iq': 4523,\n",
       " 'took': 8453,\n",
       " 'forever': 3539,\n",
       " 'come': 2323,\n",
       " 'double': 2940,\n",
       " 'check': 2142,\n",
       " 'hair': 3981,\n",
       " 'dresser': 2975,\n",
       " 'said': 7143,\n",
       " 'wun': 9245,\n",
       " 'cut': 2580,\n",
       " 'short': 7421,\n",
       " 'nice': 5791,\n",
       " 'pleased': 6400,\n",
       " 'advise': 1056,\n",
       " 'following': 3517,\n",
       " 'recent': 6846,\n",
       " 'review': 7012,\n",
       " 'mob': 5525,\n",
       " 'awarded': 1444,\n",
       " '1500': 357,\n",
       " 'bonus': 1744,\n",
       " '09066364589': 263,\n",
       " 'song': 7658,\n",
       " 'dedicated': 2702,\n",
       " 'day': 2649,\n",
       " 'dedicate': 2701,\n",
       " 'valuable': 8782,\n",
       " 'frnds': 3628,\n",
       " 'rply': 7091,\n",
       " 'complimentary': 2360,\n",
       " 'trip': 8534,\n",
       " 'eurodisinc': 3208,\n",
       " 'trav': 8516,\n",
       " 'acoentry41': 1006,\n",
       " '1000': 295,\n",
       " 'dis': 2847,\n",
       " '186': 403,\n",
       " '150morefrmmob': 359,\n",
       " 'shracomorsglsuplt10': 7444,\n",
       " 'ls1': 5164,\n",
       " '3aj': 588,\n",
       " 'hear': 4062,\n",
       " 'divorce': 2876,\n",
       " 'barbie': 1513,\n",
       " 'comes': 2327,\n",
       " 'kens': 4746,\n",
       " 'plane': 6379,\n",
       " 'month': 5568,\n",
       " 'wah': 8899,\n",
       " 'lucky': 5182,\n",
       " 'save': 7196,\n",
       " 'money': 5556,\n",
       " 'hee': 4078,\n",
       " 'finished': 3446,\n",
       " 'hi': 4131,\n",
       " 'babe': 1464,\n",
       " 'wanna': 8934,\n",
       " 'something': 7644,\n",
       " 'xx': 9313,\n",
       " 'kkwhere': 4807,\n",
       " 'youhow': 9393,\n",
       " 'performed': 6283,\n",
       " 'waiting': 8910,\n",
       " 'machan': 5225,\n",
       " 'cool': 2438,\n",
       " 'gentleman': 3742,\n",
       " 'dignity': 2824,\n",
       " 'respect': 6976,\n",
       " 'peoples': 6275,\n",
       " 'much': 5635,\n",
       " 'shy': 7454,\n",
       " 'pa': 6152,\n",
       " 'operate': 6059,\n",
       " 'looking': 5107,\n",
       " 'job': 4643,\n",
       " 'tas': 8139,\n",
       " 'earn': 3040,\n",
       " 'ah': 1098,\n",
       " 'stop': 7882,\n",
       " 'urgnt': 8731,\n",
       " 'real': 6814,\n",
       " 'yo': 9381,\n",
       " 'tickets': 8347,\n",
       " 'one': 6030,\n",
       " 'jacket': 4583,\n",
       " 'used': 8744,\n",
       " 'multis': 5646,\n",
       " 'started': 7823,\n",
       " 'requests': 6956,\n",
       " 'came': 1989,\n",
       " 'bed': 1583,\n",
       " 'coins': 2299,\n",
       " 'factory': 3313,\n",
       " 'gotta': 3862,\n",
       " 'nitros': 5822,\n",
       " 'ela': 3097,\n",
       " 'kanoil': 4722,\n",
       " 'download': 2948,\n",
       " 'wen': 9029,\n",
       " 'stand': 7811,\n",
       " 'close': 2260,\n",
       " 'another': 1229,\n",
       " 'night': 5800,\n",
       " 'spent': 7735,\n",
       " 'late': 4904,\n",
       " 'afternoon': 1075,\n",
       " 'casualty': 2060,\n",
       " 'means': 5356,\n",
       " 'havent': 4045,\n",
       " 'stuff42moro': 7942,\n",
       " 'includes': 4416,\n",
       " 'sheets': 7375,\n",
       " 'smile': 7583,\n",
       " 'pleasure': 6402,\n",
       " 'trouble': 8540,\n",
       " 'pours': 6510,\n",
       " 'rain': 6759,\n",
       " 'sum1': 8000,\n",
       " 'hurts': 4322,\n",
       " 'becoz': 1581,\n",
       " 'someone': 7637,\n",
       " 'loves': 5151,\n",
       " 'smiling': 7587,\n",
       " 'service': 7322,\n",
       " 'representative': 6953,\n",
       " '0800': 50,\n",
       " '169': 396,\n",
       " '6031': 737,\n",
       " '10am9pm': 310,\n",
       " 'guaranteed': 3936,\n",
       " '5000': 696,\n",
       " 'planning': 6384,\n",
       " 'buy': 1925,\n",
       " 'lido': 4990,\n",
       " '530': 708,\n",
       " 'show': 7435,\n",
       " 'collected': 2308,\n",
       " 'simply': 7483,\n",
       " 'password': 6230,\n",
       " 'mix': 5507,\n",
       " '85069': 870,\n",
       " 'verify': 8809,\n",
       " 'usher': 8751,\n",
       " 'britney': 1850,\n",
       " 'fml': 3507,\n",
       " 'po': 6418,\n",
       " 'box': 1779,\n",
       " '5249': 705,\n",
       " 'mk17': 5510,\n",
       " '92h': 928,\n",
       " '450ppw': 648,\n",
       " 'telugu': 8196,\n",
       " 'moviewat': 5605,\n",
       " 'abt': 972,\n",
       " 'loads': 5069,\n",
       " 'loans': 5071,\n",
       " 'wk': 9138,\n",
       " 'hols': 4194,\n",
       " 'run': 7115,\n",
       " 'forgot': 3547,\n",
       " 'hairdressers': 3983,\n",
       " 'appointment': 1282,\n",
       " 'four': 3566,\n",
       " 'shower': 7437,\n",
       " 'beforehand': 1598,\n",
       " 'cause': 2067,\n",
       " 'prob': 6611,\n",
       " 'coffee': 2294,\n",
       " 'animation': 1216,\n",
       " 'nothing': 5884,\n",
       " 'else': 3111,\n",
       " 'okay': 6003,\n",
       " 'price': 6584,\n",
       " 'long': 5099,\n",
       " 'legal': 4955,\n",
       " 'ave': 1431,\n",
       " 'ams': 1198,\n",
       " 'gone': 3828,\n",
       " '4the': 682,\n",
       " 'driving': 2984,\n",
       " 'test': 8219,\n",
       " 'yet': 9372,\n",
       " 'youre': 9403,\n",
       " 'mean': 5352,\n",
       " 'guess': 3944,\n",
       " 'gave': 3710,\n",
       " 'boston': 1766,\n",
       " 'men': 5396,\n",
       " 'changed': 2109,\n",
       " 'search': 7249,\n",
       " 'location': 5074,\n",
       " 'nyc': 5940,\n",
       " 'cuz': 2587,\n",
       " 'signin': 7471,\n",
       " 'page': 6160,\n",
       " 'says': 7206,\n",
       " 'umma': 8640,\n",
       " 'life': 4993,\n",
       " 'vava': 8796,\n",
       " 'lot': 5125,\n",
       " 'dear': 2673,\n",
       " 'wishes': 9123,\n",
       " 'birthday': 1673,\n",
       " 'making': 5265,\n",
       " 'truly': 8548,\n",
       " 'memorable': 5393,\n",
       " 'aight': 1113,\n",
       " 'hit': 4153,\n",
       " 'would': 9211,\n",
       " 'ip': 4516,\n",
       " 'address': 1030,\n",
       " 'considering': 2405,\n",
       " 'computer': 2367,\n",
       " 'isnt': 4542,\n",
       " 'minecraft': 5464,\n",
       " 'server': 7321,\n",
       " 'grumpy': 3928,\n",
       " 'old': 6020,\n",
       " 'people': 6274,\n",
       " 'mom': 5548,\n",
       " 'better': 1637,\n",
       " 'lying': 5205,\n",
       " 'jokes': 4658,\n",
       " 'worry': 9199,\n",
       " 'busy': 1919,\n",
       " 'plural': 6412,\n",
       " 'noun': 5893,\n",
       " 'research': 6962,\n",
       " 'dinnermsg': 2835,\n",
       " 'cos': 2457,\n",
       " 'things': 8297,\n",
       " 'scared': 7213,\n",
       " 'mah': 5249,\n",
       " 'loud': 5136,\n",
       " 'gent': 3740,\n",
       " 'contact': 2410,\n",
       " 'last': 4901,\n",
       " 'weekends': 9007,\n",
       " 'draw': 2962,\n",
       " 'shows': 7443,\n",
       " '09064012160': 238,\n",
       " 'k52': 4701,\n",
       " '12hrs': 340,\n",
       " '150ppm': 377,\n",
       " 'wa': 8894,\n",
       " 'openin': 6056,\n",
       " 'sentence': 7310,\n",
       " 'formal': 3550,\n",
       " 'anyway': 1255,\n",
       " 'juz': 4699,\n",
       " 'tt': 8566,\n",
       " 'eatin': 3054,\n",
       " 'puttin': 6711,\n",
       " 'weighthaha': 9014,\n",
       " 'anythin': 1250,\n",
       " 'happened': 4012,\n",
       " 'entered': 3158,\n",
       " 'cabin': 1943,\n",
       " 'bday': 1566,\n",
       " 'boss': 1765,\n",
       " 'felt': 3392,\n",
       " 'askd': 1358,\n",
       " 'invited': 4509,\n",
       " 'apartment': 1260,\n",
       " 'went': 9032,\n",
       " 'specially': 7721,\n",
       " 'holiday': 4190,\n",
       " 'flights': 3484,\n",
       " 'inc': 4410,\n",
       " 'operator': 6060,\n",
       " '0871277810910pmin': 123,\n",
       " '18': 399,\n",
       " 'goodo': 3847,\n",
       " 'must': 5666,\n",
       " 'friday': 3611,\n",
       " 'eggpotato': 3085,\n",
       " 'ratio': 6788,\n",
       " 'tortilla': 8472,\n",
       " 'needed': 5743,\n",
       " 'hmmmy': 4175,\n",
       " 'uncle': 8647,\n",
       " 'informed': 4448,\n",
       " 'paying': 6251,\n",
       " 'school': 7219,\n",
       " 'directly': 2841,\n",
       " 'food': 3525,\n",
       " 'private': 6602,\n",
       " '2004': 444,\n",
       " 'account': 995,\n",
       " 'statement': 7833,\n",
       " '07742676969': 32,\n",
       " '786': 801,\n",
       " 'unredeemed': 8689,\n",
       " 'points': 6442,\n",
       " '08719180248': 171,\n",
       " 'identifier': 4358,\n",
       " '45239': 650,\n",
       " 'expires': 3284,\n",
       " '2000': 441,\n",
       " 'caller': 1974,\n",
       " '5903': 713,\n",
       " 'landline': 4881,\n",
       " '09064019788': 244,\n",
       " 'box42wr29c': 1791,\n",
       " 'applespairsall': 1276,\n",
       " 'malarky': 5267,\n",
       " 'todays': 8410,\n",
       " 'voda': 8863,\n",
       " 'numbers': 5926,\n",
       " 'ending': 3134,\n",
       " '7548': 796,\n",
       " '350': 575,\n",
       " 'award': 1443,\n",
       " 'match': 5318,\n",
       " '08712300220': 105,\n",
       " 'quoting': 6746,\n",
       " '4041': 621,\n",
       " 'standard': 7812,\n",
       " 'rates': 6785,\n",
       " 'app': 1270,\n",
       " 'sao': 7169,\n",
       " 'mu': 5634,\n",
       " 'predict': 6545,\n",
       " 'üll': 9444,\n",
       " 'buying': 1928,\n",
       " 'knowyetunde': 4825,\n",
       " 'hasnt': 4032,\n",
       " 'sent': 7308,\n",
       " 'bother': 1768,\n",
       " 'sending': 7300,\n",
       " 'involve': 4513,\n",
       " 'shouldnt': 7430,\n",
       " 'imposed': 4399,\n",
       " 'apologise': 1267,\n",
       " 'girl': 3774,\n",
       " 'del': 2720,\n",
       " 'bak': 1490,\n",
       " 'sum': 7999,\n",
       " 'lucyxx': 5186,\n",
       " 'kkhow': 4801,\n",
       " 'tmorrowpls': 8392,\n",
       " 'accomodate': 990,\n",
       " 'answer': 1232,\n",
       " 'question': 6730,\n",
       " 'sunshine': 8016,\n",
       " 'quiz': 6741,\n",
       " 'q': 6716,\n",
       " 'top': 8462,\n",
       " 'sony': 7661,\n",
       " 'dvd': 3027,\n",
       " 'player': 6390,\n",
       " 'country': 2475,\n",
       " 'algarve': 1142,\n",
       " 'ansr': 1231,\n",
       " '82277': 841,\n",
       " 'sptyrone': 7782,\n",
       " 'laid': 4872,\n",
       " 'dogging': 2903,\n",
       " 'locations': 5075,\n",
       " 'direct': 2840,\n",
       " 'join': 4651,\n",
       " 'uks': 8634,\n",
       " 'largest': 4898,\n",
       " 'bt': 1876,\n",
       " 'txting': 8604,\n",
       " 'gravel': 3891,\n",
       " '69888': 763,\n",
       " 'nt': 5914,\n",
       " 'ec2a': 3057,\n",
       " '31pmsg150p': 566,\n",
       " 'haf': 3975,\n",
       " 'msn': 5627,\n",
       " 'yijuehotmailcom': 9378,\n",
       " 'rooms': 7075,\n",
       " 'befor': 1597,\n",
       " 'activities': 1017,\n",
       " 'youll': 9397,\n",
       " 'msgs': 5620,\n",
       " 'chat': 2131,\n",
       " 'svc': 8053,\n",
       " 'hardcore': 4022,\n",
       " 'services': 7323,\n",
       " '69988': 767,\n",
       " 'age': 1083,\n",
       " 'yr': 9416,\n",
       " 'lazy': 4928,\n",
       " 'type': 8611,\n",
       " 'lect': 4949,\n",
       " 'pouch': 6505,\n",
       " 'sir': 7498,\n",
       " 'mail': 5252,\n",
       " 'swt': 8082,\n",
       " 'nver': 5935,\n",
       " 'tired': 8373,\n",
       " 'little': 5053,\n",
       " 'lovable': 5140,\n",
       " 'persons': 6301,\n",
       " 'cozsomtimes': 2489,\n",
       " 'occupy': 5962,\n",
       " 'biggest': 1654,\n",
       " 'hearts': 4070,\n",
       " 'gud': 3938,\n",
       " 'ni8': 5788,\n",
       " 'open': 6053,\n",
       " 'ya': 9327,\n",
       " 'dot': 2939,\n",
       " 'whats': 9052,\n",
       " 'staff': 7802,\n",
       " 'taking': 8118,\n",
       " 'replied': 6945,\n",
       " 'randy': 6778,\n",
       " 'sexy': 7339,\n",
       " 'female': 3393,\n",
       " 'local': 5073,\n",
       " 'luv': 5195,\n",
       " 'netcollex': 5762,\n",
       " 'ltd': 5170,\n",
       " '08700621170150p': 75,\n",
       " 'ummmawill': 8641,\n",
       " 'inour': 4465,\n",
       " 'begin': 1603,\n",
       " 'qatar': 6717,\n",
       " 'pray': 6538,\n",
       " 'hard': 4021,\n",
       " 'ki': 4762,\n",
       " 'deleted': 2724,\n",
       " 'sindu': 7488,\n",
       " 'birla': 1669,\n",
       " 'soft': 7624,\n",
       " 'wine': 9106,\n",
       " 'flowing': 3498,\n",
       " 'nevering': 5772,\n",
       " 'thk': 8307,\n",
       " 'plaza': 6397,\n",
       " 'typical': 8614,\n",
       " 'everywhere': 3234,\n",
       " 'dirt': 2844,\n",
       " 'floor': 3492,\n",
       " 'windows': 9103,\n",
       " 'shirt': 7395,\n",
       " 'sometimes': 7648,\n",
       " 'mouth': 5599,\n",
       " 'dream': 2966,\n",
       " 'without': 9132,\n",
       " 'chores': 2212,\n",
       " 'joy': 4673,\n",
       " 'lots': 5128,\n",
       " 'tv': 8585,\n",
       " 'exist': 3268,\n",
       " 'hail': 3980,\n",
       " 'mist': 5498,\n",
       " 'become': 1579,\n",
       " 'aaooooright': 952,\n",
       " 'leaving': 4948,\n",
       " 'house': 4250,\n",
       " 'interview': 4495,\n",
       " 'boy': 1796,\n",
       " 'meare': 5359,\n",
       " 'missing': 5491,\n",
       " 'annoncement': 1222,\n",
       " 'years': 9346,\n",
       " '07046744435': 23,\n",
       " 'arrange': 1333,\n",
       " '0871277810810': 122,\n",
       " 'keep': 4739,\n",
       " 'safe': 7138,\n",
       " 'envy': 3172,\n",
       " 'everyone': 3228,\n",
       " 'sees': 7277,\n",
       " 'parentsi': 6200,\n",
       " 'hand': 3995,\n",
       " 'excited': 3256,\n",
       " 'spend': 7733,\n",
       " 'bootydelious': 1757,\n",
       " '32f': 571,\n",
       " 'inviting': 4510,\n",
       " 'friend': 3616,\n",
       " 'yes434': 9358,\n",
       " 'no434': 5829,\n",
       " 'wwwsmsacubootydelious': 9279,\n",
       " 'frnd': 3627,\n",
       " '62468': 745,\n",
       " 'bangbabes': 1504,\n",
       " 'order': 6084,\n",
       " 'content': 2414,\n",
       " 'goto': 3861,\n",
       " 'bangb': 1503,\n",
       " 'internetservice': 4494,\n",
       " 'menu': 5404,\n",
       " 'cultures': 2559,\n",
       " 'module': 5541,\n",
       " '09061701939': 221,\n",
       " 's89': 7128,\n",
       " 'avoid': 1437,\n",
       " 'missunderstding': 5496,\n",
       " 'wit': 9128,\n",
       " 'beloved': 1619,\n",
       " 'ones': 6032,\n",
       " 'escape': 3191,\n",
       " 'fancy': 3344,\n",
       " 'bridge': 1834,\n",
       " 'needs': 5747,\n",
       " 'lager': 4871,\n",
       " 'completely': 2356,\n",
       " 'formclark': 3554,\n",
       " 'also': 1171,\n",
       " 'utter': 8762,\n",
       " 'waste': 8952,\n",
       " 'axis': 1451,\n",
       " 'bank': 1506,\n",
       " 'hmmm': 4169,\n",
       " 'hop': 4219,\n",
       " 'muz': 5672,\n",
       " 'discuss': 2860,\n",
       " 'liao': 4982,\n",
       " 'coming': 2332,\n",
       " ...}"
      ]
     },
     "execution_count": 130,
     "metadata": {},
     "output_type": "execute_result"
    }
   ],
   "source": [
    "tfidf_vect.vocabulary_"
   ]
  },
  {
   "cell_type": "markdown",
   "metadata": {},
   "source": [
    "Pad the sequences so each sequence is the same length 50, which can be tuned"
   ]
  },
  {
   "cell_type": "code",
   "execution_count": 131,
   "metadata": {},
   "outputs": [],
   "source": [
    "X_train_seq_padded = pad_sequences(X_train_seq, 50)\n",
    "X_test_seq_padded = pad_sequences(X_test_seq, 50)"
   ]
  },
  {
   "cell_type": "code",
   "execution_count": 132,
   "metadata": {},
   "outputs": [],
   "source": [
    "import keras.backend as K\n",
    "from keras.layers import Dense, Embedding, LSTM, Dropout\n",
    "from keras.models import Sequential"
   ]
  },
  {
   "cell_type": "markdown",
   "metadata": {},
   "source": [
    "#### Creating recall and precision functions"
   ]
  },
  {
   "cell_type": "code",
   "execution_count": 133,
   "metadata": {},
   "outputs": [],
   "source": [
    "def recall_m(y_true, y_pred):\n",
    "        true_positives = K.sum(K.round(K.clip(y_true * y_pred, 0, 1)))\n",
    "        possible_positives = K.sum(K.round(K.clip(y_true, 0, 1)))\n",
    "        recall = true_positives / (possible_positives + K.epsilon())\n",
    "        return recall"
   ]
  },
  {
   "cell_type": "code",
   "execution_count": 134,
   "metadata": {},
   "outputs": [],
   "source": [
    "def precision_m(y_true, y_pred):\n",
    "        true_positives = K.sum(K.round(K.clip(y_true * y_pred, 0, 1)))\n",
    "        predicted_positives = K.sum(K.round(K.clip(y_pred, 0, 1)))\n",
    "        precision = true_positives / (predicted_positives + K.epsilon())\n",
    "        return precision"
   ]
  },
  {
   "cell_type": "code",
   "execution_count": 135,
   "metadata": {},
   "outputs": [
    {
     "name": "stdout",
     "output_type": "stream",
     "text": [
      "Model: \"sequential_2\"\n",
      "_________________________________________________________________\n",
      "Layer (type)                 Output Shape              Param #   \n",
      "=================================================================\n",
      "embedding_2 (Embedding)      (None, None, 32)          266112    \n",
      "_________________________________________________________________\n",
      "lstm_2 (LSTM)                (None, 32)                8320      \n",
      "_________________________________________________________________\n",
      "dense_3 (Dense)              (None, 32)                1056      \n",
      "_________________________________________________________________\n",
      "dense_4 (Dense)              (None, 1)                 33        \n",
      "=================================================================\n",
      "Total params: 275,521\n",
      "Trainable params: 275,521\n",
      "Non-trainable params: 0\n",
      "_________________________________________________________________\n"
     ]
    }
   ],
   "source": [
    "model = Sequential()\n",
    "\n",
    "model.add(Embedding(len(tokenizer.index_word)+1, 32))\n",
    "model.add(LSTM(32, dropout=0, recurrent_dropout=0))\n",
    "model.add(Dense(32, activation='relu'))\n",
    "model.add(Dense(1, activation='sigmoid'))\n",
    "model.summary()"
   ]
  },
  {
   "cell_type": "code",
   "execution_count": 136,
   "metadata": {},
   "outputs": [],
   "source": [
    "model.compile(optimizer='adam',\n",
    "              loss='binary_crossentropy',\n",
    "              metrics=['accuracy', precision_m, recall_m])"
   ]
  },
  {
   "cell_type": "code",
   "execution_count": 137,
   "metadata": {},
   "outputs": [],
   "source": [
    "y_train = y_train.replace('spam', 1)\n",
    "y_train = y_train.replace('ham', 0)\n",
    "y_test = y_test.replace('spam', 1)\n",
    "y_test = y_test.replace('ham', 0)"
   ]
  },
  {
   "cell_type": "code",
   "execution_count": 138,
   "metadata": {},
   "outputs": [
    {
     "name": "stdout",
     "output_type": "stream",
     "text": [
      "Train on 4459 samples, validate on 1115 samples\n",
      "Epoch 1/10\n",
      "4459/4459 [==============================] - 7s 2ms/step - loss: 0.2697 - accuracy: 0.9110 - precision_m: 0.5269 - recall_m: 0.4112 - val_loss: 0.0686 - val_accuracy: 0.9821 - val_precision_m: 0.9943 - val_recall_m: 0.8739\n",
      "Epoch 2/10\n",
      "4459/4459 [==============================] - 7s 1ms/step - loss: 0.0330 - accuracy: 0.9906 - precision_m: 0.9506 - recall_m: 0.9196 - val_loss: 0.0476 - val_accuracy: 0.9874 - val_precision_m: 0.9952 - val_recall_m: 0.9318\n",
      "Epoch 3/10\n",
      "4459/4459 [==============================] - 6s 1ms/step - loss: 0.0080 - accuracy: 0.9980 - precision_m: 0.9976 - recall_m: 0.9866 - val_loss: 0.0578 - val_accuracy: 0.9883 - val_precision_m: 0.9952 - val_recall_m: 0.9347\n",
      "Epoch 4/10\n",
      "4459/4459 [==============================] - 6s 1ms/step - loss: 0.0034 - accuracy: 0.9991 - precision_m: 0.9857 - recall_m: 0.9763 - val_loss: 0.0544 - val_accuracy: 0.9892 - val_precision_m: 0.9881 - val_recall_m: 0.9488\n",
      "Epoch 5/10\n",
      "4459/4459 [==============================] - 6s 1ms/step - loss: 0.0012 - accuracy: 0.9998 - precision_m: 0.9786 - recall_m: 0.9776 - val_loss: 0.0643 - val_accuracy: 0.9883 - val_precision_m: 0.9952 - val_recall_m: 0.9376\n",
      "Epoch 6/10\n",
      "4459/4459 [==============================] - 6s 1ms/step - loss: 4.9853e-04 - accuracy: 0.9998 - precision_m: 1.0000 - recall_m: 0.9990 - val_loss: 0.0726 - val_accuracy: 0.9892 - val_precision_m: 1.0000 - val_recall_m: 0.9376\n",
      "Epoch 7/10\n",
      "4459/4459 [==============================] - 6s 1ms/step - loss: 2.5653e-04 - accuracy: 1.0000 - precision_m: 1.0000 - recall_m: 1.0000 - val_loss: 0.0642 - val_accuracy: 0.9883 - val_precision_m: 0.9881 - val_recall_m: 0.9447\n",
      "Epoch 8/10\n",
      "4459/4459 [==============================] - 6s 1ms/step - loss: 1.1377e-04 - accuracy: 1.0000 - precision_m: 1.0000 - recall_m: 1.0000 - val_loss: 0.0711 - val_accuracy: 0.9892 - val_precision_m: 0.9952 - val_recall_m: 0.9447\n",
      "Epoch 9/10\n",
      "4459/4459 [==============================] - 6s 1ms/step - loss: 6.9319e-05 - accuracy: 1.0000 - precision_m: 0.9786 - recall_m: 0.9786 - val_loss: 0.0738 - val_accuracy: 0.9892 - val_precision_m: 0.9952 - val_recall_m: 0.9447\n",
      "Epoch 10/10\n",
      "4459/4459 [==============================] - 6s 1ms/step - loss: 5.1448e-05 - accuracy: 1.0000 - precision_m: 0.9929 - recall_m: 0.9929 - val_loss: 0.0753 - val_accuracy: 0.9892 - val_precision_m: 0.9952 - val_recall_m: 0.9447\n",
      "Wall time: 1min 8s\n"
     ]
    }
   ],
   "source": [
    "%%time\n",
    "history = model.fit(X_train_seq_padded, y_train, \n",
    "                    batch_size=32, epochs=10,\n",
    "                    validation_data=(X_test_seq_padded, y_test))"
   ]
  },
  {
   "cell_type": "markdown",
   "metadata": {},
   "source": [
    "#### Calculation time for basic RNN model ~70s"
   ]
  },
  {
   "cell_type": "code",
   "execution_count": 139,
   "metadata": {},
   "outputs": [
    {
     "data": {
      "image/png": "[encoded data removed]",
      "text/plain": [
       "<Figure size 432x288 with 1 Axes>"
      ]
     },
     "metadata": {
      "needs_background": "light"
     },
     "output_type": "display_data"
    },
    {
     "data": {
      "image/png": "[encoded data removed]",
      "text/plain": [
       "<Figure size 432x288 with 1 Axes>"
      ]
     },
     "metadata": {
      "needs_background": "light"
     },
     "output_type": "display_data"
    },
    {
     "data": {
      "image/png": "[encoded data removed]",
      "text/plain": [
       "<Figure size 432x288 with 1 Axes>"
      ]
     },
     "metadata": {
      "needs_background": "light"
     },
     "output_type": "display_data"
    }
   ],
   "source": [
    "import matplotlib.pyplot as plt\n",
    "%matplotlib inline\n",
    "\n",
    "for i in ['accuracy', 'precision_m', 'recall_m']:\n",
    "    acc = history.history[i]\n",
    "    val_acc = history.history[f'val_{i}']\n",
    "    epochs = range(1, len(acc) + 1)\n",
    "\n",
    "    plt.figure()\n",
    "    plt.plot(epochs, acc, label=f'Training {i}')\n",
    "    plt.plot(epochs, val_acc, label=f'Validation {i}')\n",
    "    plt.title(f'Results for {i}')\n",
    "    plt.legend()\n",
    "    plt.show()"
   ]
  },
  {
   "cell_type": "markdown",
   "metadata": {},
   "source": [
    "#### After 4 epochs the validation measures are stabilized"
   ]
  },
  {
   "cell_type": "code",
   "execution_count": 140,
   "metadata": {},
   "outputs": [],
   "source": [
    "val_acc_5 = history.history['val_accuracy'][3]\n",
    "val_pre_5 = history.history['val_precision_m'][3]\n",
    "val_rec_5 = history.history['val_recall_m'][3]"
   ]
  },
  {
   "cell_type": "code",
   "execution_count": 141,
   "metadata": {},
   "outputs": [
    {
     "name": "stdout",
     "output_type": "stream",
     "text": [
      "Validation accuracy after 5 epochs:   0.989\n",
      "Validation precision after 5 epochs:  0.988\n",
      "Validation recall after 5 epochs:     0.949\n"
     ]
    }
   ],
   "source": [
    "print(\"Validation accuracy after 5 epochs:   %.3f\" % val_acc_5)\n",
    "print(\"Validation precision after 5 epochs:  %.3f\" % val_pre_5)\n",
    "print(\"Validation recall after 5 epochs:     %.3f\" % val_rec_5)"
   ]
  },
  {
   "cell_type": "markdown",
   "metadata": {},
   "source": [
    "### Dimensionality reduction - applying PCA method"
   ]
  },
  {
   "cell_type": "markdown",
   "metadata": {},
   "source": [
    "Returning to our original features "
   ]
  },
  {
   "cell_type": "code",
   "execution_count": 142,
   "metadata": {},
   "outputs": [],
   "source": [
    "Xt = X_features\n",
    "yt = messages['label']"
   ]
  },
  {
   "cell_type": "code",
   "execution_count": 143,
   "metadata": {},
   "outputs": [
    {
     "data": {
      "text/html": [
       "<div>\n",
       "<style scoped>\n",
       "    .dataframe tbody tr th:only-of-type {\n",
       "        vertical-align: middle;\n",
       "    }\n",
       "\n",
       "    .dataframe tbody tr th {\n",
       "        vertical-align: top;\n",
       "    }\n",
       "\n",
       "    .dataframe thead th {\n",
       "        text-align: right;\n",
       "    }\n",
       "</style>\n",
       "<table border=\"1\" class=\"dataframe\">\n",
       "  <thead>\n",
       "    <tr style=\"text-align: right;\">\n",
       "      <th></th>\n",
       "      <th>0</th>\n",
       "      <th>1</th>\n",
       "      <th>2</th>\n",
       "      <th>3</th>\n",
       "      <th>4</th>\n",
       "      <th>5</th>\n",
       "      <th>6</th>\n",
       "      <th>7</th>\n",
       "      <th>8</th>\n",
       "      <th>9</th>\n",
       "      <th>...</th>\n",
       "      <th>9436</th>\n",
       "      <th>9437</th>\n",
       "      <th>9438</th>\n",
       "      <th>9439</th>\n",
       "      <th>9440</th>\n",
       "      <th>9441</th>\n",
       "      <th>9442</th>\n",
       "      <th>9443</th>\n",
       "      <th>9444</th>\n",
       "      <th>9445</th>\n",
       "    </tr>\n",
       "  </thead>\n",
       "  <tbody>\n",
       "    <tr>\n",
       "      <th>0</th>\n",
       "      <td>0.0</td>\n",
       "      <td>0.0</td>\n",
       "      <td>0.0</td>\n",
       "      <td>0.0</td>\n",
       "      <td>0.0</td>\n",
       "      <td>0.0</td>\n",
       "      <td>0.0</td>\n",
       "      <td>0.0</td>\n",
       "      <td>0.0</td>\n",
       "      <td>0.0</td>\n",
       "      <td>...</td>\n",
       "      <td>0.0</td>\n",
       "      <td>0.0</td>\n",
       "      <td>0.0</td>\n",
       "      <td>0.0</td>\n",
       "      <td>0.0</td>\n",
       "      <td>0.0</td>\n",
       "      <td>0.0</td>\n",
       "      <td>0.0</td>\n",
       "      <td>0.0</td>\n",
       "      <td>0.0</td>\n",
       "    </tr>\n",
       "    <tr>\n",
       "      <th>1</th>\n",
       "      <td>0.0</td>\n",
       "      <td>0.0</td>\n",
       "      <td>0.0</td>\n",
       "      <td>0.0</td>\n",
       "      <td>0.0</td>\n",
       "      <td>0.0</td>\n",
       "      <td>0.0</td>\n",
       "      <td>0.0</td>\n",
       "      <td>0.0</td>\n",
       "      <td>0.0</td>\n",
       "      <td>...</td>\n",
       "      <td>0.0</td>\n",
       "      <td>0.0</td>\n",
       "      <td>0.0</td>\n",
       "      <td>0.0</td>\n",
       "      <td>0.0</td>\n",
       "      <td>0.0</td>\n",
       "      <td>0.0</td>\n",
       "      <td>0.0</td>\n",
       "      <td>0.0</td>\n",
       "      <td>0.0</td>\n",
       "    </tr>\n",
       "    <tr>\n",
       "      <th>2</th>\n",
       "      <td>0.0</td>\n",
       "      <td>0.0</td>\n",
       "      <td>0.0</td>\n",
       "      <td>0.0</td>\n",
       "      <td>0.0</td>\n",
       "      <td>0.0</td>\n",
       "      <td>0.0</td>\n",
       "      <td>0.0</td>\n",
       "      <td>0.0</td>\n",
       "      <td>0.0</td>\n",
       "      <td>...</td>\n",
       "      <td>0.0</td>\n",
       "      <td>0.0</td>\n",
       "      <td>0.0</td>\n",
       "      <td>0.0</td>\n",
       "      <td>0.0</td>\n",
       "      <td>0.0</td>\n",
       "      <td>0.0</td>\n",
       "      <td>0.0</td>\n",
       "      <td>0.0</td>\n",
       "      <td>0.0</td>\n",
       "    </tr>\n",
       "    <tr>\n",
       "      <th>3</th>\n",
       "      <td>0.0</td>\n",
       "      <td>0.0</td>\n",
       "      <td>0.0</td>\n",
       "      <td>0.0</td>\n",
       "      <td>0.0</td>\n",
       "      <td>0.0</td>\n",
       "      <td>0.0</td>\n",
       "      <td>0.0</td>\n",
       "      <td>0.0</td>\n",
       "      <td>0.0</td>\n",
       "      <td>...</td>\n",
       "      <td>0.0</td>\n",
       "      <td>0.0</td>\n",
       "      <td>0.0</td>\n",
       "      <td>0.0</td>\n",
       "      <td>0.0</td>\n",
       "      <td>0.0</td>\n",
       "      <td>0.0</td>\n",
       "      <td>0.0</td>\n",
       "      <td>0.0</td>\n",
       "      <td>0.0</td>\n",
       "    </tr>\n",
       "    <tr>\n",
       "      <th>4</th>\n",
       "      <td>0.0</td>\n",
       "      <td>0.0</td>\n",
       "      <td>0.0</td>\n",
       "      <td>0.0</td>\n",
       "      <td>0.0</td>\n",
       "      <td>0.0</td>\n",
       "      <td>0.0</td>\n",
       "      <td>0.0</td>\n",
       "      <td>0.0</td>\n",
       "      <td>0.0</td>\n",
       "      <td>...</td>\n",
       "      <td>0.0</td>\n",
       "      <td>0.0</td>\n",
       "      <td>0.0</td>\n",
       "      <td>0.0</td>\n",
       "      <td>0.0</td>\n",
       "      <td>0.0</td>\n",
       "      <td>0.0</td>\n",
       "      <td>0.0</td>\n",
       "      <td>0.0</td>\n",
       "      <td>0.0</td>\n",
       "    </tr>\n",
       "  </tbody>\n",
       "</table>\n",
       "<p>5 rows × 9446 columns</p>\n",
       "</div>"
      ],
      "text/plain": [
       "   0     1     2     3     4     5     6     7     8     9     ...  9436  \\\n",
       "0   0.0   0.0   0.0   0.0   0.0   0.0   0.0   0.0   0.0   0.0  ...   0.0   \n",
       "1   0.0   0.0   0.0   0.0   0.0   0.0   0.0   0.0   0.0   0.0  ...   0.0   \n",
       "2   0.0   0.0   0.0   0.0   0.0   0.0   0.0   0.0   0.0   0.0  ...   0.0   \n",
       "3   0.0   0.0   0.0   0.0   0.0   0.0   0.0   0.0   0.0   0.0  ...   0.0   \n",
       "4   0.0   0.0   0.0   0.0   0.0   0.0   0.0   0.0   0.0   0.0  ...   0.0   \n",
       "\n",
       "   9437  9438  9439  9440  9441  9442  9443  9444  9445  \n",
       "0   0.0   0.0   0.0   0.0   0.0   0.0   0.0   0.0   0.0  \n",
       "1   0.0   0.0   0.0   0.0   0.0   0.0   0.0   0.0   0.0  \n",
       "2   0.0   0.0   0.0   0.0   0.0   0.0   0.0   0.0   0.0  \n",
       "3   0.0   0.0   0.0   0.0   0.0   0.0   0.0   0.0   0.0  \n",
       "4   0.0   0.0   0.0   0.0   0.0   0.0   0.0   0.0   0.0  \n",
       "\n",
       "[5 rows x 9446 columns]"
      ]
     },
     "execution_count": 143,
     "metadata": {},
     "output_type": "execute_result"
    }
   ],
   "source": [
    "Xt.head()"
   ]
  },
  {
   "cell_type": "code",
   "execution_count": 144,
   "metadata": {},
   "outputs": [],
   "source": [
    "X_train, X_test, y_train, y_test = train_test_split(Xt, yt, test_size=0.2, random_state=42)"
   ]
  },
  {
   "cell_type": "code",
   "execution_count": 145,
   "metadata": {},
   "outputs": [],
   "source": [
    "from sklearn.decomposition import PCA"
   ]
  },
  {
   "cell_type": "code",
   "execution_count": 146,
   "metadata": {},
   "outputs": [],
   "source": [
    "# Since the number of features (columns) is greater than the number of records (rows)\n",
    "# Thus, we had to apply the method on the 'rows' (we might loose some information)"
   ]
  },
  {
   "cell_type": "code",
   "execution_count": 147,
   "metadata": {},
   "outputs": [
    {
     "data": {
      "text/plain": [
       "array([9.52985709e-03, 8.08605013e-03, 6.99556787e-03, ...,\n",
       "       2.30873569e-37, 7.57046645e-38, 1.97713871e-39])"
      ]
     },
     "execution_count": 147,
     "metadata": {},
     "output_type": "execute_result"
    }
   ],
   "source": [
    "N = X_train.shape[0]\n",
    "pca = PCA(n_components=N)\n",
    "pca.fit(X_train)\n",
    "X_train_pca = pca.transform(X_train)\n",
    "X_test_pca = pca.transform(X_test)\n",
    "pca.explained_variance_ratio_"
   ]
  },
  {
   "cell_type": "code",
   "execution_count": 148,
   "metadata": {},
   "outputs": [],
   "source": [
    "model = RandomForestClassifier()"
   ]
  },
  {
   "cell_type": "code",
   "execution_count": 149,
   "metadata": {},
   "outputs": [
    {
     "data": {
      "text/plain": [
       "RandomForestClassifier()"
      ]
     },
     "execution_count": 149,
     "metadata": {},
     "output_type": "execute_result"
    }
   ],
   "source": [
    "model.fit(X_train_pca, y_train)"
   ]
  },
  {
   "cell_type": "code",
   "execution_count": 150,
   "metadata": {},
   "outputs": [
    {
     "data": {
      "text/plain": [
       "0.895067264573991"
      ]
     },
     "execution_count": 150,
     "metadata": {},
     "output_type": "execute_result"
    }
   ],
   "source": [
    "model.score(X_test_pca, y_test)"
   ]
  },
  {
   "cell_type": "code",
   "execution_count": 151,
   "metadata": {},
   "outputs": [
    {
     "data": {
      "text/plain": [
       "1.0"
      ]
     },
     "execution_count": 151,
     "metadata": {},
     "output_type": "execute_result"
    }
   ],
   "source": [
    "model.score(X_train_pca, y_train)"
   ]
  },
  {
   "cell_type": "markdown",
   "metadata": {},
   "source": [
    "For all components there is a big over-fit; test score = 0.895, train score = 1"
   ]
  },
  {
   "cell_type": "markdown",
   "metadata": {},
   "source": [
    "#### Transverse scan locating the max train and test scores "
   ]
  },
  {
   "cell_type": "code",
   "execution_count": 115,
   "metadata": {},
   "outputs": [
    {
     "name": "stdout",
     "output_type": "stream",
     "text": [
      "1 comp - train score: 0.902, test score: 0.884\n",
      "10 comp - train score: 0.977, test score: 0.968\n",
      "50 comp - train score: 0.977, test score: 0.963\n",
      "150 comp - train score: 0.971, test score: 0.961\n",
      "500 comp - train score: 0.961, test score: 0.941\n",
      "1000 comp - train score: 0.951, test score: 0.917\n",
      "3000 comp - train score: 0.895, test score: 0.865\n"
     ]
    }
   ],
   "source": [
    "test = []\n",
    "train = []\n",
    "model = RandomForestClassifier(max_depth=7)\n",
    "for i in [1,10,50,150,500,1000,3000]:\n",
    "    pca = PCA(n_components=i)\n",
    "    pca.fit(X_train)\n",
    "    X_train_pca = pca.transform(X_train)\n",
    "    X_test_pca = pca.transform(X_test)\n",
    "    model.fit(X_train_pca, y_train)\n",
    "    s1 = model.score(X_train_pca, y_train)\n",
    "    train.append(s1)\n",
    "    s2 = model.score(X_test_pca, y_test)\n",
    "    test.append(s2)\n",
    "    print(f'{i} comp - train score: {round(s1,3)}, test score: {round(s2,3)}')"
   ]
  },
  {
   "cell_type": "code",
   "execution_count": 139,
   "metadata": {},
   "outputs": [
    {
     "data": {
      "text/plain": [
       "(-0.5, 12)"
      ]
     },
     "execution_count": 139,
     "metadata": {},
     "output_type": "execute_result"
    },
    {
     "data": {
      "image/png": "[encoded data removed]",
      "text/plain": [
       "<Figure size 432x288 with 1 Axes>"
      ]
     },
     "metadata": {
      "needs_background": "light"
     },
     "output_type": "display_data"
    }
   ],
   "source": [
    "from matplotlib.legend_handler import HandlerLine2D\n",
    "\n",
    "x = np.log2(np.array([1,10,50,150,500,1000,3000]))\n",
    "line1, = plt.plot(x, test, color='m' ,marker='o', label='Test score')\n",
    "line2, = plt.plot(x, train, color='b', marker='o', label='Train score')\n",
    "plt.legend(handler_map={line1: HandlerLine2D(numpoints=1)})\n",
    "plt.xlabel('Log2(#components)') \n",
    "plt.ylabel('Score') \n",
    "plt.xlim([-0.5,12])"
   ]
  },
  {
   "cell_type": "markdown",
   "metadata": {},
   "source": [
    "It's clear from the plot that around the 10 components the both train and test score reach maximum  "
   ]
  },
  {
   "cell_type": "markdown",
   "metadata": {},
   "source": [
    "#### Delicate scan finding the trend and the best scores (between 3-60 components) "
   ]
  },
  {
   "cell_type": "code",
   "execution_count": 37,
   "metadata": {},
   "outputs": [],
   "source": [
    "train = []\n",
    "test = []\n",
    "n_comp = []\n",
    "model = RandomForestClassifier(max_depth=7, random_state=42)\n",
    "for i in range(3,63,3):\n",
    "    pca = PCA(n_components=i)\n",
    "    pca.fit(X_train)\n",
    "    X_train_pca = pca.transform(X_train)\n",
    "    X_test_pca = pca.transform(X_test)\n",
    "    model.fit(X_train_pca, y_train)\n",
    "    pred_train = model.predict(X_train_pca)\n",
    "    pred_test = model.predict(X_test_pca)\n",
    "    acc_train = accuracy_score(y_train, pred_train)\n",
    "    pre_train = precision_score(y_train, pred_train, pos_label='ham')\n",
    "    rec_train = recall_score(y_train, pred_train, pos_label='ham')\n",
    "    acc_test = accuracy_score(y_test, pred_test)\n",
    "    pre_test = precision_score(y_test, pred_test, pos_label='ham')\n",
    "    rec_test = recall_score(y_test, pred_test, pos_label='ham')\n",
    "    train.append([acc_train,pre_train,rec_train])\n",
    "    test.append([acc_test,pre_test,rec_test])\n",
    "    n_comp.append(i)"
   ]
  },
  {
   "cell_type": "code",
   "execution_count": 64,
   "metadata": {},
   "outputs": [],
   "source": [
    "df_train = pd.DataFrame(train, columns=['acc_train','pre_train','rec_train'])\n",
    "df_test = pd.DataFrame(test, columns=['acc_test','pre_test','rec_test'])\n",
    "n_comp = pd.Series(n_comp, name='n_comp')\n",
    "df_tot = pd.concat([n_comp, df_train, df_test], axis=1)"
   ]
  },
  {
   "cell_type": "code",
   "execution_count": 66,
   "metadata": {},
   "outputs": [
    {
     "data": {
      "text/html": [
       "<div>\n",
       "<style scoped>\n",
       "    .dataframe tbody tr th:only-of-type {\n",
       "        vertical-align: middle;\n",
       "    }\n",
       "\n",
       "    .dataframe tbody tr th {\n",
       "        vertical-align: top;\n",
       "    }\n",
       "\n",
       "    .dataframe thead th {\n",
       "        text-align: right;\n",
       "    }\n",
       "</style>\n",
       "<table border=\"1\" class=\"dataframe\">\n",
       "  <thead>\n",
       "    <tr style=\"text-align: right;\">\n",
       "      <th></th>\n",
       "      <th>n_comp</th>\n",
       "      <th>acc_train</th>\n",
       "      <th>pre_train</th>\n",
       "      <th>rec_train</th>\n",
       "      <th>acc_test</th>\n",
       "      <th>pre_test</th>\n",
       "      <th>rec_test</th>\n",
       "    </tr>\n",
       "  </thead>\n",
       "  <tbody>\n",
       "    <tr>\n",
       "      <th>0</th>\n",
       "      <td>3</td>\n",
       "      <td>0.932720</td>\n",
       "      <td>0.934143</td>\n",
       "      <td>0.992512</td>\n",
       "      <td>0.938117</td>\n",
       "      <td>0.935961</td>\n",
       "      <td>0.995807</td>\n",
       "    </tr>\n",
       "    <tr>\n",
       "      <th>1</th>\n",
       "      <td>6</td>\n",
       "      <td>0.966809</td>\n",
       "      <td>0.972117</td>\n",
       "      <td>0.990188</td>\n",
       "      <td>0.956054</td>\n",
       "      <td>0.966976</td>\n",
       "      <td>0.982180</td>\n",
       "    </tr>\n",
       "    <tr>\n",
       "      <th>2</th>\n",
       "      <td>9</td>\n",
       "      <td>0.975555</td>\n",
       "      <td>0.977423</td>\n",
       "      <td>0.994836</td>\n",
       "      <td>0.965022</td>\n",
       "      <td>0.972136</td>\n",
       "      <td>0.987421</td>\n",
       "    </tr>\n",
       "    <tr>\n",
       "      <th>3</th>\n",
       "      <td>12</td>\n",
       "      <td>0.976228</td>\n",
       "      <td>0.976956</td>\n",
       "      <td>0.996127</td>\n",
       "      <td>0.966816</td>\n",
       "      <td>0.970256</td>\n",
       "      <td>0.991614</td>\n",
       "    </tr>\n",
       "    <tr>\n",
       "      <th>4</th>\n",
       "      <td>15</td>\n",
       "      <td>0.977349</td>\n",
       "      <td>0.976263</td>\n",
       "      <td>0.998193</td>\n",
       "      <td>0.967713</td>\n",
       "      <td>0.969325</td>\n",
       "      <td>0.993711</td>\n",
       "    </tr>\n",
       "  </tbody>\n",
       "</table>\n",
       "</div>"
      ],
      "text/plain": [
       "   n_comp  acc_train  pre_train  rec_train  acc_test  pre_test  rec_test\n",
       "0       3   0.932720   0.934143   0.992512  0.938117  0.935961  0.995807\n",
       "1       6   0.966809   0.972117   0.990188  0.956054  0.966976  0.982180\n",
       "2       9   0.975555   0.977423   0.994836  0.965022  0.972136  0.987421\n",
       "3      12   0.976228   0.976956   0.996127  0.966816  0.970256  0.991614\n",
       "4      15   0.977349   0.976263   0.998193  0.967713  0.969325  0.993711"
      ]
     },
     "execution_count": 66,
     "metadata": {},
     "output_type": "execute_result"
    }
   ],
   "source": [
    "df_tot.head()"
   ]
  },
  {
   "cell_type": "code",
   "execution_count": 67,
   "metadata": {},
   "outputs": [],
   "source": [
    "import matplotlib.pyplot as plt\n",
    "%matplotlib inline"
   ]
  },
  {
   "cell_type": "code",
   "execution_count": 78,
   "metadata": {},
   "outputs": [
    {
     "data": {
      "image/png": "[encoded data removed]",
      "text/plain": [
       "<Figure size 432x288 with 1 Axes>"
      ]
     },
     "metadata": {
      "needs_background": "light"
     },
     "output_type": "display_data"
    },
    {
     "data": {
      "image/png": "[encoded data removed]",
      "text/plain": [
       "<Figure size 432x288 with 1 Axes>"
      ]
     },
     "metadata": {
      "needs_background": "light"
     },
     "output_type": "display_data"
    },
    {
     "data": {
      "image/png": "[encoded data removed]",
      "text/plain": [
       "<Figure size 432x288 with 1 Axes>"
      ]
     },
     "metadata": {
      "needs_background": "light"
     },
     "output_type": "display_data"
    }
   ],
   "source": [
    "for i in ['acc_', 'pre_', 'rec_']:\n",
    "\n",
    "    plt.figure()\n",
    "    plt.plot(df_tot.n_comp, df_tot[f'{i}train'], color='m' ,marker='o', label=f'{i}train')\n",
    "    plt.plot(df_tot.n_comp, df_tot[f'{i}test'], color='b', marker='o', label=f'{i}test')\n",
    "    plt.title(f'Results for {i}')\n",
    "    plt.legend()\n",
    "    plt.show()"
   ]
  },
  {
   "cell_type": "markdown",
   "metadata": {},
   "source": [
    "#### Observations\n",
    "* It can be seen that the scores are stablizied approximately around 15 components\n",
    "* The test scores are as follows: accuracy = 0.968, precision = 0.969, recall = 0.994"
   ]
  },
  {
   "cell_type": "markdown",
   "metadata": {},
   "source": [
    "## Summary\n",
    "\n",
    "* The project started by cleaning the text, removing stopwords and punctuation\n",
    "* The clean messages were vectorized using TfidfVectorizer\n",
    "* Basic models were built and tested on the dataset\n",
    "* An imbalance problem was obsereved and corrected by resampling the data\n",
    "* RNN sequential was built including data preparation\n",
    "* The results were measured in terms of accuracy, precision and recall\n",
    "* Dimensionality reduction was applied"
   ]
  },
  {
   "cell_type": "markdown",
   "metadata": {},
   "source": [
    "### Conclusions\n",
    "\n",
    "* The highest scores were achieved for Random forest model with: acc = 0.976, pre = 0.972, rec = 1\n",
    "* The results got improved a bit using the resampling method, but computation time was increased\n",
    "* The fastest model was Logistic regression with very good results: acc = 0.95, pre = 0.95, rec = 0.995\n",
    "* Using PCA method to reduce dimensionality we got very nice results and less overfitting problem\n",
    "#### To conclude, the most accurate model was Random forest, and the fastest was Logistic regression"
   ]
  }
 ],
 "metadata": {
  "kernelspec": {
   "display_name": "Python 3",
   "language": "python",
   "name": "python3"
  },
  "language_info": {
   "codemirror_mode": {
    "name": "ipython",
    "version": 3
   },
   "file_extension": ".py",
   "mimetype": "text/x-python",
   "name": "python",
   "nbconvert_exporter": "python",
   "pygments_lexer": "ipython3",
   "version": "3.7.6"
  }
 },
 "nbformat": 4,
 "nbformat_minor": 4
}
